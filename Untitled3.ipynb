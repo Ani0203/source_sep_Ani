{
 "cells": [
  {
   "cell_type": "code",
   "execution_count": 1,
   "metadata": {},
   "outputs": [],
   "source": [
    "import argparse\n",
    "import musdb\n",
    "import museval\n",
    "import test\n",
    "import multiprocessing\n",
    "import functools\n",
    "from pathlib import Path\n",
    "import torch\n",
    "import tqdm\n",
    "import numpy as np\n",
    "%matplotlib inline"
   ]
  },
  {
   "cell_type": "code",
   "execution_count": 33,
   "metadata": {},
   "outputs": [],
   "source": [
    "model = 'umxhq'\n",
    "model_name = 'umxhq'\n",
    "# model = '../out_unmix/model8'\n",
    "# model_name = 'model8'\n",
    "targets = ['vocals']\n",
    "outdir = '../test_out/BSS_eval_plots/'\n",
    "evaldir = '../out_dir_evals/Exp1_umxhq'\n",
    "root = '../test_out/Exp_1/exp1_tracks/'\n",
    "subset = 'train'\n",
    "cores = 1\n",
    "no_cuda = False\n",
    "is_wav = True"
   ]
  },
  {
   "cell_type": "code",
   "execution_count": 34,
   "metadata": {},
   "outputs": [],
   "source": [
    "use_cuda = not no_cuda and torch.cuda.is_available()\n",
    "device = torch.device(\"cuda\" if use_cuda else \"cpu\")"
   ]
  },
  {
   "cell_type": "code",
   "execution_count": 35,
   "metadata": {},
   "outputs": [],
   "source": [
    "mus = musdb.DB(\n",
    "    root=root,\n",
    "    download=root is None,\n",
    "    subsets=subset,\n",
    "    is_wav=is_wav\n",
    ")"
   ]
  },
  {
   "cell_type": "code",
   "execution_count": 36,
   "metadata": {},
   "outputs": [
    {
     "data": {
      "text/plain": [
       "'0 - Yaman+comp50 == test data\\n   1 - musdb-eg\\n   2 - Sakhi_mori == train data\\n   3 - yaman+comp__ == valid data\\n   4 - osf_malhar\\n'"
      ]
     },
     "execution_count": 36,
     "metadata": {},
     "output_type": "execute_result"
    }
   ],
   "source": [
    "track = mus.tracks[4]\n",
    "'''0 - Yaman+comp50 == test data\n",
    "   1 - musdb-eg\n",
    "   2 - Sakhi_mori == train data\n",
    "   3 - yaman+comp__ == valid data\n",
    "   4 - osf_malhar\n",
    "'''"
   ]
  },
  {
   "cell_type": "code",
   "execution_count": 37,
   "metadata": {},
   "outputs": [
    {
     "name": "stderr",
     "output_type": "stream",
     "text": [
      "\r",
      "  0%|          | 0/1 [00:00<?, ?it/s]"
     ]
    },
    {
     "name": "stdout",
     "output_type": "stream",
     "text": [
      "CHECK OpenUnmix(\n",
      "  (stft): STFT()\n",
      "  (spec): Spectrogram()\n",
      "  (transform): Sequential(\n",
      "    (0): STFT()\n",
      "    (1): Spectrogram()\n",
      "  )\n",
      "  (fc1): Linear(in_features=2974, out_features=512, bias=False)\n",
      "  (bn1): BatchNorm1d(512, eps=1e-05, momentum=0.1, affine=True, track_running_stats=True)\n",
      "  (lstm): LSTM(512, 256, num_layers=3, dropout=0.4, bidirectional=True)\n",
      "  (fc2): Linear(in_features=1024, out_features=512, bias=False)\n",
      "  (bn2): BatchNorm1d(512, eps=1e-05, momentum=0.1, affine=True, track_running_stats=True)\n",
      "  (fc3): Linear(in_features=512, out_features=4098, bias=False)\n",
      "  (bn3): BatchNorm1d(4098, eps=1e-05, momentum=0.1, affine=True, track_running_stats=True)\n",
      ")\n"
     ]
    },
    {
     "name": "stderr",
     "output_type": "stream",
     "text": [
      "100%|██████████| 1/1 [00:04<00:00,  4.26s/it]\n"
     ]
    }
   ],
   "source": [
    "estimates = test.separate(\n",
    "    audio=track.audio,\n",
    "    targets=targets,\n",
    "    model_name=model,\n",
    "    niter=2,\n",
    "    alpha=1,\n",
    "    softmask=False,\n",
    "    #device=device\n",
    ")"
   ]
  },
  {
   "cell_type": "code",
   "execution_count": 38,
   "metadata": {},
   "outputs": [],
   "source": [
    "audio_estimates = []\n",
    "audio_reference = []\n",
    "eval_targets = []"
   ]
  },
  {
   "cell_type": "code",
   "execution_count": 39,
   "metadata": {},
   "outputs": [],
   "source": [
    "for key, target in list(track.targets.items()):\n",
    "    try:\n",
    "        # try to fetch the audio from the user_results of a given key\n",
    "        estimates[key]\n",
    "    except KeyError:\n",
    "        # ignore wrong key and continue\n",
    "        continue\n",
    "    eval_targets.append(key)"
   ]
  },
  {
   "cell_type": "code",
   "execution_count": 40,
   "metadata": {},
   "outputs": [],
   "source": [
    "mode='v4'\n",
    "win=1.0\n",
    "hop=1.0\n",
    "data = museval.aggregate.TrackStore(win=win, hop=hop, track_name=track.name)"
   ]
  },
  {
   "cell_type": "code",
   "execution_count": 41,
   "metadata": {},
   "outputs": [],
   "source": [
    "# check if vocals and accompaniment is among the targets\n",
    "has_acc = all(x in eval_targets for x in ['vocals', 'accompaniment'])\n",
    "if has_acc:\n",
    "    # remove accompaniment from list of targets, because\n",
    "    # the voc/acc scenario will be evaluated separately\n",
    "    eval_targets.remove('accompaniment')"
   ]
  },
  {
   "cell_type": "code",
   "execution_count": 42,
   "metadata": {},
   "outputs": [],
   "source": [
    "audio_estimates.append(estimates['vocals'])\n",
    "audio_reference.append(track.targets['vocals'].audio)"
   ]
  },
  {
   "cell_type": "code",
   "execution_count": 43,
   "metadata": {},
   "outputs": [],
   "source": [
    "def pad_or_truncate(\n",
    "    audio_reference,\n",
    "    audio_estimates\n",
    "):\n",
    "    \"\"\"Pad or truncate estimates by duration of references:\n",
    "    - If reference > estimates: add zeros at the and of the estimated signal\n",
    "    - If estimates > references: truncate estimates to duration of references\n",
    "\n",
    "    Parameters\n",
    "    ----------\n",
    "    references : np.ndarray, shape=(nsrc, nsampl, nchan)\n",
    "        array containing true reference sources\n",
    "    estimates : np.ndarray, shape=(nsrc, nsampl, nchan)\n",
    "        array containing estimated sources\n",
    "    Returns\n",
    "    -------\n",
    "    references : np.ndarray, shape=(nsrc, nsampl, nchan)\n",
    "        array containing true reference sources\n",
    "    estimates : np.ndarray, shape=(nsrc, nsampl, nchan)\n",
    "        array containing estimated sources\n",
    "    \"\"\"\n",
    "    est_shape = audio_estimates.shape\n",
    "    ref_shape = audio_reference.shape\n",
    "    if est_shape[1] != ref_shape[1]:\n",
    "        if est_shape[1] >= ref_shape[1]:\n",
    "            audio_estimates = audio_estimates[:, :ref_shape[1], :]\n",
    "        else:\n",
    "            # pad end with zeros\n",
    "            audio_estimates = np.pad(\n",
    "                audio_estimates,\n",
    "                [\n",
    "                    (0, 0),\n",
    "                    (0, ref_shape[1] - est_shape[1]),\n",
    "                    (0, 0)\n",
    "                ],\n",
    "                mode='constant'\n",
    "            )\n",
    "\n",
    "    return audio_reference, audio_estimates"
   ]
  },
  {
   "cell_type": "code",
   "execution_count": 44,
   "metadata": {},
   "outputs": [],
   "source": [
    "def evaluate(\n",
    "    references,\n",
    "    estimates,\n",
    "    win=1*44100,\n",
    "    hop=1*44100,\n",
    "    mode='v4',\n",
    "    padding=True\n",
    "):\n",
    "    \"\"\"BSS_EVAL images evaluation using metrics module\n",
    "\n",
    "    Parameters\n",
    "    ----------\n",
    "    references : np.ndarray, shape=(nsrc, nsampl, nchan)\n",
    "        array containing true reference sources\n",
    "    estimates : np.ndarray, shape=(nsrc, nsampl, nchan)\n",
    "        array containing estimated sources\n",
    "    window : int, defaults to 44100\n",
    "        window size in samples\n",
    "    hop : int\n",
    "        hop size in samples, defaults to 44100 (no overlap)\n",
    "    mode : str\n",
    "        BSSEval version, default to `v4`\n",
    "    Returns\n",
    "    -------\n",
    "    SDR : np.ndarray, shape=(nsrc,)\n",
    "        vector of Signal to Distortion Ratios (SDR)\n",
    "    ISR : np.ndarray, shape=(nsrc,)\n",
    "        vector of Source to Spatial Distortion Image (ISR)\n",
    "    SIR : np.ndarray, shape=(nsrc,)\n",
    "        vector of Source to Interference Ratios (SIR)\n",
    "    SAR : np.ndarray, shape=(nsrc,)\n",
    "        vector of Sources to Artifacts Ratios (SAR)\n",
    "    \"\"\"\n",
    "\n",
    "    estimates = np.array(estimates)\n",
    "    references = np.array(references)\n",
    "\n",
    "    if padding:\n",
    "        references, estimates = pad_or_truncate(references, estimates)\n",
    "\n",
    "    SDR, ISR, SIR, SAR, _ = museval.metrics.bss_eval(\n",
    "        references,\n",
    "        estimates,\n",
    "        compute_permutation=False,\n",
    "        window=win,\n",
    "        hop=hop,\n",
    "        framewise_filters=(mode == \"v3\"),\n",
    "        bsseval_sources_version=False\n",
    "    )\n",
    "\n",
    "    return SDR, ISR, SIR, SAR"
   ]
  },
  {
   "cell_type": "code",
   "execution_count": 45,
   "metadata": {},
   "outputs": [],
   "source": [
    "SDR_umx_osf, ISR_umx_osf, SIR_umx_osf, SAR_umx_osf = evaluate(\n",
    "        audio_reference,\n",
    "        audio_estimates,\n",
    "        win=int(win*track.rate),\n",
    "        hop=int(hop*track.rate),\n",
    "        mode=mode\n",
    "    )"
   ]
  },
  {
   "cell_type": "code",
   "execution_count": null,
   "metadata": {},
   "outputs": [],
   "source": []
  },
  {
   "cell_type": "code",
   "execution_count": 46,
   "metadata": {},
   "outputs": [],
   "source": [
    "#model = 'umxhq'\n",
    "#model_name = 'umxhq'\n",
    "model = '../out_unmix/model8'\n",
    "model_name = 'model8'\n",
    "targets = ['vocals']\n",
    "outdir = '../test_out/BSS_eval_plots/'\n",
    "evaldir = '../out_dir_evals/Exp1_umxhq'\n",
    "root = '../test_out/Exp_1/exp1_tracks/'\n",
    "subset = 'train'\n",
    "cores = 1\n",
    "no_cuda = False\n",
    "is_wav = True"
   ]
  },
  {
   "cell_type": "code",
   "execution_count": 47,
   "metadata": {},
   "outputs": [],
   "source": [
    "use_cuda = not no_cuda and torch.cuda.is_available()\n",
    "device = torch.device(\"cuda\" if use_cuda else \"cpu\")"
   ]
  },
  {
   "cell_type": "code",
   "execution_count": 48,
   "metadata": {},
   "outputs": [],
   "source": [
    "mus = musdb.DB(\n",
    "    root=root,\n",
    "    download=root is None,\n",
    "    subsets=subset,\n",
    "    is_wav=is_wav\n",
    ")"
   ]
  },
  {
   "cell_type": "code",
   "execution_count": 49,
   "metadata": {},
   "outputs": [
    {
     "data": {
      "text/plain": [
       "'0 - Yaman+comp50 == test data\\n   1 - musdb-eg\\n   2 - Sakhi_mori == train data\\n   3 - yaman+comp__ == valid data\\n   4 - osf_malhar\\n'"
      ]
     },
     "execution_count": 49,
     "metadata": {},
     "output_type": "execute_result"
    }
   ],
   "source": [
    "track = mus.tracks[4]\n",
    "'''0 - Yaman+comp50 == test data\n",
    "   1 - musdb-eg\n",
    "   2 - Sakhi_mori == train data\n",
    "   3 - yaman+comp__ == valid data\n",
    "   4 - osf_malhar\n",
    "'''"
   ]
  },
  {
   "cell_type": "code",
   "execution_count": 50,
   "metadata": {},
   "outputs": [
    {
     "name": "stderr",
     "output_type": "stream",
     "text": [
      "\r",
      "  0%|          | 0/1 [00:00<?, ?it/s]"
     ]
    },
    {
     "name": "stdout",
     "output_type": "stream",
     "text": [
      "CHECK OpenUnmix(\n",
      "  (stft): STFT()\n",
      "  (spec): Spectrogram()\n",
      "  (transform): Sequential(\n",
      "    (0): STFT()\n",
      "    (1): Spectrogram()\n",
      "  )\n",
      "  (fc1): Linear(in_features=4098, out_features=512, bias=False)\n",
      "  (bn1): BatchNorm1d(512, eps=1e-05, momentum=0.1, affine=True, track_running_stats=True)\n",
      "  (lstm): LSTM(512, 256, num_layers=3, dropout=0.4, bidirectional=True)\n",
      "  (fc2): Linear(in_features=1024, out_features=512, bias=False)\n",
      "  (bn2): BatchNorm1d(512, eps=1e-05, momentum=0.1, affine=True, track_running_stats=True)\n",
      "  (fc3): Linear(in_features=512, out_features=4098, bias=False)\n",
      "  (bn3): BatchNorm1d(4098, eps=1e-05, momentum=0.1, affine=True, track_running_stats=True)\n",
      ")\n"
     ]
    },
    {
     "name": "stderr",
     "output_type": "stream",
     "text": [
      "100%|██████████| 1/1 [00:03<00:00,  3.07s/it]\n"
     ]
    }
   ],
   "source": [
    "estimates = test.separate(\n",
    "    audio=track.audio,\n",
    "    targets=targets,\n",
    "    model_name=model,\n",
    "    niter=2,\n",
    "    alpha=1,\n",
    "    softmask=False,\n",
    "    #device=device\n",
    ")"
   ]
  },
  {
   "cell_type": "code",
   "execution_count": 51,
   "metadata": {},
   "outputs": [],
   "source": [
    "audio_estimates = []\n",
    "audio_reference = []\n",
    "eval_targets = []"
   ]
  },
  {
   "cell_type": "code",
   "execution_count": 52,
   "metadata": {},
   "outputs": [],
   "source": [
    "for key, target in list(track.targets.items()):\n",
    "    try:\n",
    "        # try to fetch the audio from the user_results of a given key\n",
    "        estimates[key]\n",
    "    except KeyError:\n",
    "        # ignore wrong key and continue\n",
    "        continue\n",
    "    eval_targets.append(key)"
   ]
  },
  {
   "cell_type": "code",
   "execution_count": 53,
   "metadata": {},
   "outputs": [],
   "source": [
    "mode='v4'\n",
    "win=1.0\n",
    "hop=1.0\n",
    "data = museval.aggregate.TrackStore(win=win, hop=hop, track_name=track.name)"
   ]
  },
  {
   "cell_type": "code",
   "execution_count": 54,
   "metadata": {},
   "outputs": [],
   "source": [
    "# check if vocals and accompaniment is among the targets\n",
    "has_acc = all(x in eval_targets for x in ['vocals', 'accompaniment'])\n",
    "if has_acc:\n",
    "    # remove accompaniment from list of targets, because\n",
    "    # the voc/acc scenario will be evaluated separately\n",
    "    eval_targets.remove('accompaniment')"
   ]
  },
  {
   "cell_type": "code",
   "execution_count": 55,
   "metadata": {},
   "outputs": [],
   "source": [
    "audio_estimates.append(estimates['vocals'])\n",
    "audio_reference.append(track.targets['vocals'].audio)"
   ]
  },
  {
   "cell_type": "code",
   "execution_count": 58,
   "metadata": {},
   "outputs": [],
   "source": [
    "SDR_m8_osf, ISR_m8_osf, SIR_m8_osf, SAR_m8_osf = evaluate(\n",
    "        audio_reference,\n",
    "        audio_estimates,\n",
    "        win=int(win*track.rate),\n",
    "        hop=int(hop*track.rate),\n",
    "        mode=mode\n",
    "    )"
   ]
  },
  {
   "cell_type": "code",
   "execution_count": 59,
   "metadata": {},
   "outputs": [],
   "source": []
  },
  {
   "cell_type": "code",
   "execution_count": 46,
   "metadata": {},
   "outputs": [],
   "source": [
    "#model = 'umxhq'\n",
    "#model_name = 'umxhq'\n",
    "model = '../out_unmix/model8'\n",
    "model_name = 'model8'\n",
    "targets = ['vocals']\n",
    "outdir = '../test_out/BSS_eval_plots/'\n",
    "evaldir = '../out_dir_evals/Exp1_umxhq'\n",
    "root = '../test_out/Exp_1/exp1_tracks/'\n",
    "subset = 'train'\n",
    "cores = 1\n",
    "no_cuda = False\n",
    "is_wav = True"
   ]
  },
  {
   "cell_type": "code",
   "execution_count": 47,
   "metadata": {},
   "outputs": [],
   "source": [
    "use_cuda = not no_cuda and torch.cuda.is_available()\n",
    "device = torch.device(\"cuda\" if use_cuda else \"cpu\")"
   ]
  },
  {
   "cell_type": "code",
   "execution_count": 48,
   "metadata": {},
   "outputs": [],
   "source": [
    "mus = musdb.DB(\n",
    "    root=root,\n",
    "    download=root is None,\n",
    "    subsets=subset,\n",
    "    is_wav=is_wav\n",
    ")"
   ]
  },
  {
   "cell_type": "code",
   "execution_count": 49,
   "metadata": {},
   "outputs": [
    {
     "data": {
      "text/plain": [
       "'0 - Yaman+comp50 == test data\\n   1 - musdb-eg\\n   2 - Sakhi_mori == train data\\n   3 - yaman+comp__ == valid data\\n   4 - osf_malhar\\n'"
      ]
     },
     "execution_count": 49,
     "metadata": {},
     "output_type": "execute_result"
    }
   ],
   "source": [
    "track = mus.tracks[3]\n",
    "'''0 - Yaman+comp50 == test data\n",
    "   1 - musdb-eg\n",
    "   2 - Sakhi_mori == train data\n",
    "   3 - yaman+comp__ == valid data\n",
    "   4 - osf_malhar\n",
    "'''"
   ]
  },
  {
   "cell_type": "code",
   "execution_count": 50,
   "metadata": {},
   "outputs": [
    {
     "name": "stderr",
     "output_type": "stream",
     "text": [
      "\r",
      "  0%|          | 0/1 [00:00<?, ?it/s]"
     ]
    },
    {
     "name": "stdout",
     "output_type": "stream",
     "text": [
      "CHECK OpenUnmix(\n",
      "  (stft): STFT()\n",
      "  (spec): Spectrogram()\n",
      "  (transform): Sequential(\n",
      "    (0): STFT()\n",
      "    (1): Spectrogram()\n",
      "  )\n",
      "  (fc1): Linear(in_features=4098, out_features=512, bias=False)\n",
      "  (bn1): BatchNorm1d(512, eps=1e-05, momentum=0.1, affine=True, track_running_stats=True)\n",
      "  (lstm): LSTM(512, 256, num_layers=3, dropout=0.4, bidirectional=True)\n",
      "  (fc2): Linear(in_features=1024, out_features=512, bias=False)\n",
      "  (bn2): BatchNorm1d(512, eps=1e-05, momentum=0.1, affine=True, track_running_stats=True)\n",
      "  (fc3): Linear(in_features=512, out_features=4098, bias=False)\n",
      "  (bn3): BatchNorm1d(4098, eps=1e-05, momentum=0.1, affine=True, track_running_stats=True)\n",
      ")\n"
     ]
    },
    {
     "name": "stderr",
     "output_type": "stream",
     "text": [
      "100%|██████████| 1/1 [00:03<00:00,  3.07s/it]\n"
     ]
    }
   ],
   "source": [
    "estimates = test.separate(\n",
    "    audio=track.audio,\n",
    "    targets=targets,\n",
    "    model_name=model,\n",
    "    niter=2,\n",
    "    alpha=1,\n",
    "    softmask=False,\n",
    "    #device=device\n",
    ")"
   ]
  },
  {
   "cell_type": "code",
   "execution_count": 51,
   "metadata": {},
   "outputs": [],
   "source": [
    "audio_estimates = []\n",
    "audio_reference = []\n",
    "eval_targets = []"
   ]
  },
  {
   "cell_type": "code",
   "execution_count": 52,
   "metadata": {},
   "outputs": [],
   "source": [
    "for key, target in list(track.targets.items()):\n",
    "    try:\n",
    "        # try to fetch the audio from the user_results of a given key\n",
    "        estimates[key]\n",
    "    except KeyError:\n",
    "        # ignore wrong key and continue\n",
    "        continue\n",
    "    eval_targets.append(key)"
   ]
  },
  {
   "cell_type": "code",
   "execution_count": 53,
   "metadata": {},
   "outputs": [],
   "source": [
    "mode='v4'\n",
    "win=1.0\n",
    "hop=1.0\n",
    "data = museval.aggregate.TrackStore(win=win, hop=hop, track_name=track.name)"
   ]
  },
  {
   "cell_type": "code",
   "execution_count": 54,
   "metadata": {},
   "outputs": [],
   "source": [
    "# check if vocals and accompaniment is among the targets\n",
    "has_acc = all(x in eval_targets for x in ['vocals', 'accompaniment'])\n",
    "if has_acc:\n",
    "    # remove accompaniment from list of targets, because\n",
    "    # the voc/acc scenario will be evaluated separately\n",
    "    eval_targets.remove('accompaniment')"
   ]
  },
  {
   "cell_type": "code",
   "execution_count": 55,
   "metadata": {},
   "outputs": [],
   "source": [
    "audio_estimates.append(estimates['vocals'])\n",
    "audio_reference.append(track.targets['vocals'].audio)"
   ]
  },
  {
   "cell_type": "code",
   "execution_count": 58,
   "metadata": {},
   "outputs": [],
   "source": [
    "SDR_m8_my, ISR_m8_my, SIR_m8_my, SAR_m8_my = evaluate(\n",
    "        audio_reference,\n",
    "        audio_estimates,\n",
    "        win=int(win*track.rate),\n",
    "        hop=int(hop*track.rate),\n",
    "        mode=mode\n",
    "    )"
   ]
  },
  {
   "cell_type": "code",
   "execution_count": 46,
   "metadata": {},
   "outputs": [],
   "source": [
    "model = 'umxhq'\n",
    "model_name = 'umxhq'\n",
    "# model = '../out_unmix/model8'\n",
    "# model_name = 'model8'\n",
    "targets = ['vocals']\n",
    "outdir = '../test_out/BSS_eval_plots/'\n",
    "evaldir = '../out_dir_evals/Exp1_umxhq'\n",
    "root = '../test_out/Exp_1/exp1_tracks/'\n",
    "subset = 'train'\n",
    "cores = 1\n",
    "no_cuda = False\n",
    "is_wav = True"
   ]
  },
  {
   "cell_type": "code",
   "execution_count": 47,
   "metadata": {},
   "outputs": [],
   "source": [
    "use_cuda = not no_cuda and torch.cuda.is_available()\n",
    "device = torch.device(\"cuda\" if use_cuda else \"cpu\")"
   ]
  },
  {
   "cell_type": "code",
   "execution_count": 48,
   "metadata": {},
   "outputs": [],
   "source": [
    "mus = musdb.DB(\n",
    "    root=root,\n",
    "    download=root is None,\n",
    "    subsets=subset,\n",
    "    is_wav=is_wav\n",
    ")"
   ]
  },
  {
   "cell_type": "code",
   "execution_count": 49,
   "metadata": {},
   "outputs": [
    {
     "data": {
      "text/plain": [
       "'0 - Yaman+comp50 == test data\\n   1 - musdb-eg\\n   2 - Sakhi_mori == train data\\n   3 - yaman+comp__ == valid data\\n   4 - osf_malhar\\n'"
      ]
     },
     "execution_count": 49,
     "metadata": {},
     "output_type": "execute_result"
    }
   ],
   "source": [
    "track = mus.tracks[3]\n",
    "'''0 - Yaman+comp50 == test data\n",
    "   1 - musdb-eg\n",
    "   2 - Sakhi_mori == train data\n",
    "   3 - yaman+comp__ == valid data\n",
    "   4 - osf_malhar\n",
    "'''"
   ]
  },
  {
   "cell_type": "code",
   "execution_count": 50,
   "metadata": {},
   "outputs": [
    {
     "name": "stderr",
     "output_type": "stream",
     "text": [
      "\r",
      "  0%|          | 0/1 [00:00<?, ?it/s]"
     ]
    },
    {
     "name": "stdout",
     "output_type": "stream",
     "text": [
      "CHECK OpenUnmix(\n",
      "  (stft): STFT()\n",
      "  (spec): Spectrogram()\n",
      "  (transform): Sequential(\n",
      "    (0): STFT()\n",
      "    (1): Spectrogram()\n",
      "  )\n",
      "  (fc1): Linear(in_features=4098, out_features=512, bias=False)\n",
      "  (bn1): BatchNorm1d(512, eps=1e-05, momentum=0.1, affine=True, track_running_stats=True)\n",
      "  (lstm): LSTM(512, 256, num_layers=3, dropout=0.4, bidirectional=True)\n",
      "  (fc2): Linear(in_features=1024, out_features=512, bias=False)\n",
      "  (bn2): BatchNorm1d(512, eps=1e-05, momentum=0.1, affine=True, track_running_stats=True)\n",
      "  (fc3): Linear(in_features=512, out_features=4098, bias=False)\n",
      "  (bn3): BatchNorm1d(4098, eps=1e-05, momentum=0.1, affine=True, track_running_stats=True)\n",
      ")\n"
     ]
    },
    {
     "name": "stderr",
     "output_type": "stream",
     "text": [
      "100%|██████████| 1/1 [00:03<00:00,  3.07s/it]\n"
     ]
    }
   ],
   "source": [
    "estimates = test.separate(\n",
    "    audio=track.audio,\n",
    "    targets=targets,\n",
    "    model_name=model,\n",
    "    niter=2,\n",
    "    alpha=1,\n",
    "    softmask=False,\n",
    "    #device=device\n",
    ")"
   ]
  },
  {
   "cell_type": "code",
   "execution_count": 51,
   "metadata": {},
   "outputs": [],
   "source": [
    "audio_estimates = []\n",
    "audio_reference = []\n",
    "eval_targets = []"
   ]
  },
  {
   "cell_type": "code",
   "execution_count": 52,
   "metadata": {},
   "outputs": [],
   "source": [
    "for key, target in list(track.targets.items()):\n",
    "    try:\n",
    "        # try to fetch the audio from the user_results of a given key\n",
    "        estimates[key]\n",
    "    except KeyError:\n",
    "        # ignore wrong key and continue\n",
    "        continue\n",
    "    eval_targets.append(key)"
   ]
  },
  {
   "cell_type": "code",
   "execution_count": 53,
   "metadata": {},
   "outputs": [],
   "source": [
    "mode='v4'\n",
    "win=1.0\n",
    "hop=1.0\n",
    "data = museval.aggregate.TrackStore(win=win, hop=hop, track_name=track.name)"
   ]
  },
  {
   "cell_type": "code",
   "execution_count": 54,
   "metadata": {},
   "outputs": [],
   "source": [
    "# check if vocals and accompaniment is among the targets\n",
    "has_acc = all(x in eval_targets for x in ['vocals', 'accompaniment'])\n",
    "if has_acc:\n",
    "    # remove accompaniment from list of targets, because\n",
    "    # the voc/acc scenario will be evaluated separately\n",
    "    eval_targets.remove('accompaniment')"
   ]
  },
  {
   "cell_type": "code",
   "execution_count": 55,
   "metadata": {},
   "outputs": [],
   "source": [
    "audio_estimates.append(estimates['vocals'])\n",
    "audio_reference.append(track.targets['vocals'].audio)"
   ]
  },
  {
   "cell_type": "code",
   "execution_count": 58,
   "metadata": {},
   "outputs": [],
   "source": [
    "SDR_umx_my, ISR_umx_my, SIR_umx_my, SAR_umx_my = evaluate(\n",
    "        audio_reference,\n",
    "        audio_estimates,\n",
    "        win=int(win*track.rate),\n",
    "        hop=int(hop*track.rate),\n",
    "        mode=mode\n",
    "    )"
   ]
  },
  {
   "cell_type": "code",
   "execution_count": 46,
   "metadata": {},
   "outputs": [],
   "source": [
    "model = 'umxhq'\n",
    "model_name = 'umxhq'\n",
    "# model = '../out_unmix/model8'\n",
    "# model_name = 'model8'\n",
    "targets = ['vocals']\n",
    "outdir = '../test_out/BSS_eval_plots/'\n",
    "evaldir = '../out_dir_evals/Exp1_umxhq'\n",
    "root = '../test_out/Exp_1/exp1_tracks/'\n",
    "subset = 'train'\n",
    "cores = 1\n",
    "no_cuda = False\n",
    "is_wav = True"
   ]
  },
  {
   "cell_type": "code",
   "execution_count": 47,
   "metadata": {},
   "outputs": [],
   "source": [
    "use_cuda = not no_cuda and torch.cuda.is_available()\n",
    "device = torch.device(\"cuda\" if use_cuda else \"cpu\")"
   ]
  },
  {
   "cell_type": "code",
   "execution_count": 48,
   "metadata": {},
   "outputs": [],
   "source": [
    "mus = musdb.DB(\n",
    "    root=root,\n",
    "    download=root is None,\n",
    "    subsets=subset,\n",
    "    is_wav=is_wav\n",
    ")"
   ]
  },
  {
   "cell_type": "code",
   "execution_count": 49,
   "metadata": {},
   "outputs": [
    {
     "data": {
      "text/plain": [
       "'0 - Yaman+comp50 == test data\\n   1 - musdb-eg\\n   2 - Sakhi_mori == train data\\n   3 - yaman+comp__ == valid data\\n   4 - osf_malhar\\n'"
      ]
     },
     "execution_count": 49,
     "metadata": {},
     "output_type": "execute_result"
    }
   ],
   "source": [
    "track = mus.tracks[1]\n",
    "'''0 - Yaman+comp50 == test data\n",
    "   1 - musdb-eg\n",
    "   2 - Sakhi_mori == train data\n",
    "   3 - yaman+comp__ == valid data\n",
    "   4 - osf_malhar\n",
    "'''"
   ]
  },
  {
   "cell_type": "code",
   "execution_count": 50,
   "metadata": {},
   "outputs": [
    {
     "name": "stderr",
     "output_type": "stream",
     "text": [
      "\r",
      "  0%|          | 0/1 [00:00<?, ?it/s]"
     ]
    },
    {
     "name": "stdout",
     "output_type": "stream",
     "text": [
      "CHECK OpenUnmix(\n",
      "  (stft): STFT()\n",
      "  (spec): Spectrogram()\n",
      "  (transform): Sequential(\n",
      "    (0): STFT()\n",
      "    (1): Spectrogram()\n",
      "  )\n",
      "  (fc1): Linear(in_features=4098, out_features=512, bias=False)\n",
      "  (bn1): BatchNorm1d(512, eps=1e-05, momentum=0.1, affine=True, track_running_stats=True)\n",
      "  (lstm): LSTM(512, 256, num_layers=3, dropout=0.4, bidirectional=True)\n",
      "  (fc2): Linear(in_features=1024, out_features=512, bias=False)\n",
      "  (bn2): BatchNorm1d(512, eps=1e-05, momentum=0.1, affine=True, track_running_stats=True)\n",
      "  (fc3): Linear(in_features=512, out_features=4098, bias=False)\n",
      "  (bn3): BatchNorm1d(4098, eps=1e-05, momentum=0.1, affine=True, track_running_stats=True)\n",
      ")\n"
     ]
    },
    {
     "name": "stderr",
     "output_type": "stream",
     "text": [
      "100%|██████████| 1/1 [00:03<00:00,  3.07s/it]\n"
     ]
    }
   ],
   "source": [
    "estimates = test.separate(\n",
    "    audio=track.audio,\n",
    "    targets=targets,\n",
    "    model_name=model,\n",
    "    niter=2,\n",
    "    alpha=1,\n",
    "    softmask=False,\n",
    "    #device=device\n",
    ")"
   ]
  },
  {
   "cell_type": "code",
   "execution_count": 51,
   "metadata": {},
   "outputs": [],
   "source": [
    "audio_estimates = []\n",
    "audio_reference = []\n",
    "eval_targets = []"
   ]
  },
  {
   "cell_type": "code",
   "execution_count": 52,
   "metadata": {},
   "outputs": [],
   "source": [
    "for key, target in list(track.targets.items()):\n",
    "    try:\n",
    "        # try to fetch the audio from the user_results of a given key\n",
    "        estimates[key]\n",
    "    except KeyError:\n",
    "        # ignore wrong key and continue\n",
    "        continue\n",
    "    eval_targets.append(key)"
   ]
  },
  {
   "cell_type": "code",
   "execution_count": 53,
   "metadata": {},
   "outputs": [],
   "source": [
    "mode='v4'\n",
    "win=1.0\n",
    "hop=1.0\n",
    "data = museval.aggregate.TrackStore(win=win, hop=hop, track_name=track.name)"
   ]
  },
  {
   "cell_type": "code",
   "execution_count": 54,
   "metadata": {},
   "outputs": [],
   "source": [
    "# check if vocals and accompaniment is among the targets\n",
    "has_acc = all(x in eval_targets for x in ['vocals', 'accompaniment'])\n",
    "if has_acc:\n",
    "    # remove accompaniment from list of targets, because\n",
    "    # the voc/acc scenario will be evaluated separately\n",
    "    eval_targets.remove('accompaniment')"
   ]
  },
  {
   "cell_type": "code",
   "execution_count": 55,
   "metadata": {},
   "outputs": [],
   "source": [
    "audio_estimates.append(estimates['vocals'])\n",
    "audio_reference.append(track.targets['vocals'].audio)"
   ]
  },
  {
   "cell_type": "code",
   "execution_count": 58,
   "metadata": {},
   "outputs": [],
   "source": [
    "SDR_umx_mus, ISR_umx_mus, SIR_umx_my, SAR_umx_my = evaluate(\n",
    "        audio_reference,\n",
    "        audio_estimates,\n",
    "        win=int(win*track.rate),\n",
    "        hop=int(hop*track.rate),\n",
    "        mode=mode\n",
    "    )"
   ]
  },
  {
   "cell_type": "code",
   "execution_count": null,
   "metadata": {},
   "outputs": [],
   "source": []
  },
  {
   "cell_type": "code",
   "execution_count": null,
   "metadata": {},
   "outputs": [],
   "source": [
    "from matplotlib import pyplot as plt"
   ]
  },
  {
   "cell_type": "code",
   "execution_count": 60,
   "metadata": {},
   "outputs": [
    {
     "name": "stderr",
     "output_type": "stream",
     "text": [
      "No handles with labels found to put in legend.\n"
     ]
    },
    {
     "data": {
      "image/png": "[encoded data removed]",
      "text/plain": [
       "<Figure size 1152x864 with 2 Axes>"
      ]
     },
     "metadata": {
      "needs_background": "light"
     },
     "output_type": "display_data"
    }
   ],
   "source": [
    "plt.figure(figsize=(16,12))\n",
    "plt.subplot(2, 2, 2)\n",
    "plt.title(\"SDR Box-plot\")\n",
    "plt.ylabel(\"SDR\")\n",
    "plt.legend()\n",
    "plt.subplot(1,2,1)\n",
    "plt.boxplot(SDR_umx[0])\n",
    "plt.subplot(1,2,2)\n",
    "plt.boxplot(SDR_m8[0])\n",
    "plt.savefig(outdir + \"SDR_plot_\" + track.name + \"_\" + \"umxhq_model8\" + \".pdf\")"
   ]
  },
  {
   "cell_type": "code",
   "execution_count": 61,
   "metadata": {},
   "outputs": [
    {
     "name": "stderr",
     "output_type": "stream",
     "text": [
      "No handles with labels found to put in legend.\n"
     ]
    },
    {
     "data": {
      "image/png": "[encoded data removed]",
      "text/plain": [
       "<Figure size 1152x864 with 2 Axes>"
      ]
     },
     "metadata": {
      "needs_background": "light"
     },
     "output_type": "display_data"
    }
   ],
   "source": [
    "plt.figure(figsize=(16,12))\n",
    "plt.subplot(2, 2, 2)\n",
    "plt.title(\"ISR Box-plot\")\n",
    "plt.ylabel(\"ISR\")\n",
    "plt.legend()\n",
    "plt.subplot(1,2,1)\n",
    "plt.boxplot(ISR_umx[0])\n",
    "plt.subplot(1,2,2)\n",
    "plt.boxplot(ISR_m8[0])\n",
    "plt.savefig(outdir + \"ISR_plot_\" + track.name + \"_\" + \"umxhq_model8\" + \".pdf\")"
   ]
  },
  {
   "cell_type": "code",
   "execution_count": 62,
   "metadata": {},
   "outputs": [
    {
     "name": "stderr",
     "output_type": "stream",
     "text": [
      "No handles with labels found to put in legend.\n"
     ]
    },
    {
     "data": {
      "image/png": "[encoded data removed]",
      "text/plain": [
       "<Figure size 1152x864 with 2 Axes>"
      ]
     },
     "metadata": {
      "needs_background": "light"
     },
     "output_type": "display_data"
    }
   ],
   "source": [
    "plt.figure(figsize=(16,12))\n",
    "plt.subplot(2, 2, 2)\n",
    "plt.title(\"SAR Box-plot\")\n",
    "plt.ylabel(\"SAR\")\n",
    "plt.legend()\n",
    "plt.subplot(1,2,1)\n",
    "plt.boxplot(SAR_umx[0])\n",
    "plt.subplot(1,2,2)\n",
    "plt.boxplot(SAR_m8[0])\n",
    "plt.savefig(outdir + \"SAR_plot_\" + track.name + \"_\" + \"umxhq_model8\" + \".pdf\")"
   ]
  },
  {
   "cell_type": "code",
   "execution_count": null,
   "metadata": {},
   "outputs": [],
   "source": []
  }
 ],
 "metadata": {
  "kernelspec": {
   "display_name": "Python 3",
   "language": "python",
   "name": "python3"
  },
  "language_info": {
   "codemirror_mode": {
    "name": "ipython",
    "version": 3
   },
   "file_extension": ".py",
   "mimetype": "text/x-python",
   "name": "python",
   "nbconvert_exporter": "python",
   "pygments_lexer": "ipython3",
   "version": "3.6.8"
  }
 },
 "nbformat": 4,
 "nbformat_minor": 2
}
