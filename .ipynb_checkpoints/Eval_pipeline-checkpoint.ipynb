{
 "cells": [
  {
   "cell_type": "code",
   "execution_count": 2,
   "metadata": {},
   "outputs": [],
   "source": [
    "import soundfile as sf\n",
    "import argparse\n",
    "import musdb\n",
    "import museval\n",
    "import test\n",
    "import multiprocessing\n",
    "import functools\n",
    "from pathlib import Path\n",
    "import torch\n",
    "import json\n",
    "import tqdm\n",
    "import numpy as np\n",
    "import os\n",
    "import pickle\n",
    "import crepe\n",
    "import scipy.io.wavfile\n",
    "import mir_eval\n",
    "import essentia.standard as ess\n",
    "from matplotlib import pyplot as plt\n",
    "%matplotlib inline"
   ]
  },
  {
   "cell_type": "markdown",
   "metadata": {},
   "source": [
    "1. Within each experiment folder, there will be folders corresponding to the models being evaluated\n",
    "2. Within the folder for each model there will be a folder corresponding to each test example\n",
    "3. Within folder for each test example we will save the model output (vocals and accompaniments) as well as json file containing the evaluation metrics for that example and model"
   ]
  },
  {
   "cell_type": "code",
   "execution_count": 24,
   "metadata": {},
   "outputs": [],
   "source": [
    "#Create folder within given experiment corresponding to model being evaluated\n",
    "exp_no = 3\n",
    "model = '../out_unmix/model_new_data_aug2' #Path to the saved model\n",
    "model_name = 'model_new_data_aug2'\n",
    "\n",
    "exp_model_res_path = '../test_out/Exp_' + str(exp_no) + '/' + model_name + '/'\n",
    "\n",
    "if not(os.path.exists(exp_model_res_path)):\n",
    "    os.mkdir(exp_model_res_path)"
   ]
  },
  {
   "cell_type": "code",
   "execution_count": 25,
   "metadata": {},
   "outputs": [],
   "source": [
    "#Create folders corresponding to each test examples \n",
    "test_data_folder = '../rec_data_new/test/'\n",
    "for test_eg in os.listdir(test_data_folder):\n",
    "    test_eg_path = exp_model_res_path + test_eg + '/'\n",
    "    if not(os.path.exists(test_eg_path)):\n",
    "        os.mkdir(test_eg_path)"
   ]
  },
  {
   "cell_type": "code",
   "execution_count": 26,
   "metadata": {},
   "outputs": [],
   "source": [
    "# # Find output of the model for each test example and save in corresponding folder\n",
    "# for test_eg in os.listdir(test_data_folder):\n",
    "#     #print(test_eg)\n",
    "#     test_eg_source = test_data_folder + test_eg #path to test data\n",
    "#     test_eg_eval = exp_model_res_path + test_eg + '/'\n",
    "    "
   ]
  },
  {
   "cell_type": "code",
   "execution_count": 27,
   "metadata": {
    "scrolled": true
   },
   "outputs": [],
   "source": [
    "#Obtain SDR values for each test example as well as save estimate audios\n",
    "# Define required functions\n",
    "def pad_or_truncate(\n",
    "    audio_reference,\n",
    "    audio_estimates\n",
    "):\n",
    "    \"\"\"Pad or truncate estimates by duration of references:\n",
    "    - If reference > estimates: add zeros at the and of the estimated signal\n",
    "    - If estimates > references: truncate estimates to duration of references\n",
    "\n",
    "    Parameters\n",
    "    ----------\n",
    "    references : np.ndarray, shape=(nsrc, nsampl, nchan)\n",
    "        array containing true reference sources\n",
    "    estimates : np.ndarray, shape=(nsrc, nsampl, nchan)\n",
    "        array containing estimated sources\n",
    "    Returns\n",
    "    -------\n",
    "    references : np.ndarray, shape=(nsrc, nsampl, nchan)\n",
    "        array containing true reference sources\n",
    "    estimates : np.ndarray, shape=(nsrc, nsampl, nchan)\n",
    "        array containing estimated sources\n",
    "    \"\"\"\n",
    "    est_shape = audio_estimates.shape\n",
    "    ref_shape = audio_reference.shape\n",
    "    if est_shape[1] != ref_shape[1]:\n",
    "        if est_shape[1] >= ref_shape[1]:\n",
    "            audio_estimates = audio_estimates[:, :ref_shape[1], :]\n",
    "        else:\n",
    "            # pad end with zeros\n",
    "            audio_estimates = np.pad(\n",
    "                audio_estimates,\n",
    "                [\n",
    "                    (0, 0),\n",
    "                    (0, ref_shape[1] - est_shape[1]),\n",
    "                    (0, 0)\n",
    "                ],\n",
    "                mode='constant'\n",
    "            )\n",
    "\n",
    "    return audio_reference, audio_estimates\n",
    "\n",
    "def evaluate(\n",
    "    references,\n",
    "    estimates,\n",
    "    win=1*44100,\n",
    "    hop=1*44100,\n",
    "    mode='v4',\n",
    "    padding=True\n",
    "):\n",
    "    \"\"\"BSS_EVAL images evaluation using metrics module\n",
    "\n",
    "    Parameters\n",
    "    ----------\n",
    "    references : np.ndarray, shape=(nsrc, nsampl, nchan)\n",
    "        array containing true reference sources\n",
    "    estimates : np.ndarray, shape=(nsrc, nsampl, nchan)\n",
    "        array containing estimated sources\n",
    "    window : int, defaults to 44100\n",
    "        window size in samples\n",
    "    hop : int\n",
    "        hop size in samples, defaults to 44100 (no overlap)\n",
    "    mode : str\n",
    "        BSSEval version, default to `v4`\n",
    "    Returns\n",
    "    -------\n",
    "    SDR : np.ndarray, shape=(nsrc,)\n",
    "        vector of Signal to Distortion Ratios (SDR)\n",
    "    ISR : np.ndarray, shape=(nsrc,)\n",
    "        vector of Source to Spatial Distortion Image (ISR)\n",
    "    SIR : np.ndarray, shape=(nsrc,)\n",
    "        vector of Source to Interference Ratios (SIR)\n",
    "    SAR : np.ndarray, shape=(nsrc,)\n",
    "        vector of Sources to Artifacts Ratios (SAR)\n",
    "    \"\"\"\n",
    "\n",
    "    estimates = np.array(estimates)\n",
    "    references = np.array(references)\n",
    "\n",
    "    if padding:\n",
    "        references, estimates = pad_or_truncate(references, estimates)\n",
    "\n",
    "    SDR, ISR, SIR, SAR, _ = museval.metrics.bss_eval(\n",
    "        references,\n",
    "        estimates,\n",
    "        compute_permutation=False,\n",
    "        window=win,\n",
    "        hop=hop,\n",
    "        framewise_filters=(mode == \"v3\"),\n",
    "        bsseval_sources_version=False\n",
    "    )\n",
    "\n",
    "    return SDR, ISR, SIR, SAR\n",
    "\n"
   ]
  },
  {
   "cell_type": "code",
   "execution_count": 28,
   "metadata": {},
   "outputs": [],
   "source": [
    "targets = ['vocals']\n",
    "root = '../rec_data_new/'\n",
    "subset = 'test'\n",
    "cores = 1\n",
    "no_cuda = False\n",
    "is_wav = True\n",
    "samplerate = 22050\n",
    "use_cuda = not no_cuda and torch.cuda.is_available()\n",
    "device = torch.device(\"cuda\" if use_cuda else \"cpu\")"
   ]
  },
  {
   "cell_type": "code",
   "execution_count": 29,
   "metadata": {},
   "outputs": [],
   "source": [
    "mus = musdb.DB(\n",
    "    root=root,\n",
    "    download=root is None,\n",
    "    subsets=subset,\n",
    "    is_wav=is_wav\n",
    ")"
   ]
  },
  {
   "cell_type": "code",
   "execution_count": 9,
   "metadata": {},
   "outputs": [
    {
     "name": "stderr",
     "output_type": "stream",
     "text": [
      "\r",
      "  0%|          | 0/1 [00:00<?, ?it/s]"
     ]
    },
    {
     "name": "stdout",
     "output_type": "stream",
     "text": [
      "Yaman_res_plus_comp50_t\n",
      "CHECK OpenUnmix(\n",
      "  (stft): STFT()\n",
      "  (spec): Spectrogram()\n",
      "  (transform): Sequential(\n",
      "    (0): STFT()\n",
      "    (1): Spectrogram()\n",
      "  )\n",
      "  (fc1): Linear(in_features=4098, out_features=512, bias=False)\n",
      "  (bn1): BatchNorm1d(512, eps=1e-05, momentum=0.1, affine=True, track_running_stats=True)\n",
      "  (lstm): LSTM(512, 256, num_layers=3, dropout=0.4, bidirectional=True)\n",
      "  (fc2): Linear(in_features=1024, out_features=512, bias=False)\n",
      "  (bn2): BatchNorm1d(512, eps=1e-05, momentum=0.1, affine=True, track_running_stats=True)\n",
      "  (fc3): Linear(in_features=512, out_features=4098, bias=False)\n",
      "  (bn3): BatchNorm1d(4098, eps=1e-05, momentum=0.1, affine=True, track_running_stats=True)\n",
      ")\n"
     ]
    },
    {
     "name": "stderr",
     "output_type": "stream",
     "text": [
      "100%|██████████| 1/1 [00:04<00:00,  4.85s/it]\n"
     ]
    },
    {
     "name": "stdout",
     "output_type": "stream",
     "text": [
      "SAVED SEPARATED VOCALS AND ACCOMPANIMENTS!\n"
     ]
    },
    {
     "name": "stderr",
     "output_type": "stream",
     "text": [
      "\r",
      "  0%|          | 0/1 [00:00<?, ?it/s]"
     ]
    },
    {
     "name": "stdout",
     "output_type": "stream",
     "text": [
      "Saving json file\n",
      "Saved!\n",
      "Yaman_res_plus_comp51_t\n",
      "CHECK OpenUnmix(\n",
      "  (stft): STFT()\n",
      "  (spec): Spectrogram()\n",
      "  (transform): Sequential(\n",
      "    (0): STFT()\n",
      "    (1): Spectrogram()\n",
      "  )\n",
      "  (fc1): Linear(in_features=4098, out_features=512, bias=False)\n",
      "  (bn1): BatchNorm1d(512, eps=1e-05, momentum=0.1, affine=True, track_running_stats=True)\n",
      "  (lstm): LSTM(512, 256, num_layers=3, dropout=0.4, bidirectional=True)\n",
      "  (fc2): Linear(in_features=1024, out_features=512, bias=False)\n",
      "  (bn2): BatchNorm1d(512, eps=1e-05, momentum=0.1, affine=True, track_running_stats=True)\n",
      "  (fc3): Linear(in_features=512, out_features=4098, bias=False)\n",
      "  (bn3): BatchNorm1d(4098, eps=1e-05, momentum=0.1, affine=True, track_running_stats=True)\n",
      ")\n"
     ]
    },
    {
     "name": "stderr",
     "output_type": "stream",
     "text": [
      "100%|██████████| 1/1 [00:04<00:00,  4.27s/it]\n"
     ]
    },
    {
     "name": "stdout",
     "output_type": "stream",
     "text": [
      "SAVED SEPARATED VOCALS AND ACCOMPANIMENTS!\n"
     ]
    },
    {
     "name": "stderr",
     "output_type": "stream",
     "text": [
      "\r",
      "  0%|          | 0/1 [00:00<?, ?it/s]"
     ]
    },
    {
     "name": "stdout",
     "output_type": "stream",
     "text": [
      "Saving json file\n",
      "Saved!\n",
      "Yaman_res_plus_comp52_t\n",
      "CHECK OpenUnmix(\n",
      "  (stft): STFT()\n",
      "  (spec): Spectrogram()\n",
      "  (transform): Sequential(\n",
      "    (0): STFT()\n",
      "    (1): Spectrogram()\n",
      "  )\n",
      "  (fc1): Linear(in_features=4098, out_features=512, bias=False)\n",
      "  (bn1): BatchNorm1d(512, eps=1e-05, momentum=0.1, affine=True, track_running_stats=True)\n",
      "  (lstm): LSTM(512, 256, num_layers=3, dropout=0.4, bidirectional=True)\n",
      "  (fc2): Linear(in_features=1024, out_features=512, bias=False)\n",
      "  (bn2): BatchNorm1d(512, eps=1e-05, momentum=0.1, affine=True, track_running_stats=True)\n",
      "  (fc3): Linear(in_features=512, out_features=4098, bias=False)\n",
      "  (bn3): BatchNorm1d(4098, eps=1e-05, momentum=0.1, affine=True, track_running_stats=True)\n",
      ")\n"
     ]
    },
    {
     "name": "stderr",
     "output_type": "stream",
     "text": [
      "100%|██████████| 1/1 [00:04<00:00,  4.09s/it]\n"
     ]
    },
    {
     "name": "stdout",
     "output_type": "stream",
     "text": [
      "SAVED SEPARATED VOCALS AND ACCOMPANIMENTS!\n"
     ]
    },
    {
     "name": "stderr",
     "output_type": "stream",
     "text": [
      "\r",
      "  0%|          | 0/1 [00:00<?, ?it/s]"
     ]
    },
    {
     "name": "stdout",
     "output_type": "stream",
     "text": [
      "Saving json file\n",
      "Saved!\n",
      "Yaman_res_plus_comp55_t\n",
      "CHECK OpenUnmix(\n",
      "  (stft): STFT()\n",
      "  (spec): Spectrogram()\n",
      "  (transform): Sequential(\n",
      "    (0): STFT()\n",
      "    (1): Spectrogram()\n",
      "  )\n",
      "  (fc1): Linear(in_features=4098, out_features=512, bias=False)\n",
      "  (bn1): BatchNorm1d(512, eps=1e-05, momentum=0.1, affine=True, track_running_stats=True)\n",
      "  (lstm): LSTM(512, 256, num_layers=3, dropout=0.4, bidirectional=True)\n",
      "  (fc2): Linear(in_features=1024, out_features=512, bias=False)\n",
      "  (bn2): BatchNorm1d(512, eps=1e-05, momentum=0.1, affine=True, track_running_stats=True)\n",
      "  (fc3): Linear(in_features=512, out_features=4098, bias=False)\n",
      "  (bn3): BatchNorm1d(4098, eps=1e-05, momentum=0.1, affine=True, track_running_stats=True)\n",
      ")\n"
     ]
    },
    {
     "name": "stderr",
     "output_type": "stream",
     "text": [
      "100%|██████████| 1/1 [00:04<00:00,  4.07s/it]\n"
     ]
    },
    {
     "name": "stdout",
     "output_type": "stream",
     "text": [
      "SAVED SEPARATED VOCALS AND ACCOMPANIMENTS!\n"
     ]
    },
    {
     "name": "stderr",
     "output_type": "stream",
     "text": [
      "\r",
      "  0%|          | 0/1 [00:00<?, ?it/s]"
     ]
    },
    {
     "name": "stdout",
     "output_type": "stream",
     "text": [
      "Saving json file\n",
      "Saved!\n",
      "Yaman_res_plus_comp56_t\n",
      "CHECK OpenUnmix(\n",
      "  (stft): STFT()\n",
      "  (spec): Spectrogram()\n",
      "  (transform): Sequential(\n",
      "    (0): STFT()\n",
      "    (1): Spectrogram()\n",
      "  )\n",
      "  (fc1): Linear(in_features=4098, out_features=512, bias=False)\n",
      "  (bn1): BatchNorm1d(512, eps=1e-05, momentum=0.1, affine=True, track_running_stats=True)\n",
      "  (lstm): LSTM(512, 256, num_layers=3, dropout=0.4, bidirectional=True)\n",
      "  (fc2): Linear(in_features=1024, out_features=512, bias=False)\n",
      "  (bn2): BatchNorm1d(512, eps=1e-05, momentum=0.1, affine=True, track_running_stats=True)\n",
      "  (fc3): Linear(in_features=512, out_features=4098, bias=False)\n",
      "  (bn3): BatchNorm1d(4098, eps=1e-05, momentum=0.1, affine=True, track_running_stats=True)\n",
      ")\n"
     ]
    },
    {
     "name": "stderr",
     "output_type": "stream",
     "text": [
      "100%|██████████| 1/1 [00:04<00:00,  4.09s/it]\n"
     ]
    },
    {
     "name": "stdout",
     "output_type": "stream",
     "text": [
      "SAVED SEPARATED VOCALS AND ACCOMPANIMENTS!\n"
     ]
    },
    {
     "name": "stderr",
     "output_type": "stream",
     "text": [
      "\r",
      "  0%|          | 0/1 [00:00<?, ?it/s]"
     ]
    },
    {
     "name": "stdout",
     "output_type": "stream",
     "text": [
      "Saving json file\n",
      "Saved!\n",
      "Yaman_res_plus_comp69_t\n",
      "CHECK OpenUnmix(\n",
      "  (stft): STFT()\n",
      "  (spec): Spectrogram()\n",
      "  (transform): Sequential(\n",
      "    (0): STFT()\n",
      "    (1): Spectrogram()\n",
      "  )\n",
      "  (fc1): Linear(in_features=4098, out_features=512, bias=False)\n",
      "  (bn1): BatchNorm1d(512, eps=1e-05, momentum=0.1, affine=True, track_running_stats=True)\n",
      "  (lstm): LSTM(512, 256, num_layers=3, dropout=0.4, bidirectional=True)\n",
      "  (fc2): Linear(in_features=1024, out_features=512, bias=False)\n",
      "  (bn2): BatchNorm1d(512, eps=1e-05, momentum=0.1, affine=True, track_running_stats=True)\n",
      "  (fc3): Linear(in_features=512, out_features=4098, bias=False)\n",
      "  (bn3): BatchNorm1d(4098, eps=1e-05, momentum=0.1, affine=True, track_running_stats=True)\n",
      ")\n"
     ]
    },
    {
     "name": "stderr",
     "output_type": "stream",
     "text": [
      "100%|██████████| 1/1 [00:04<00:00,  4.12s/it]\n"
     ]
    },
    {
     "name": "stdout",
     "output_type": "stream",
     "text": [
      "SAVED SEPARATED VOCALS AND ACCOMPANIMENTS!\n"
     ]
    },
    {
     "name": "stderr",
     "output_type": "stream",
     "text": [
      "\r",
      "  0%|          | 0/1 [00:00<?, ?it/s]"
     ]
    },
    {
     "name": "stdout",
     "output_type": "stream",
     "text": [
      "Saving json file\n",
      "Saved!\n",
      "Yaman_res_plus_comp76_t\n",
      "CHECK OpenUnmix(\n",
      "  (stft): STFT()\n",
      "  (spec): Spectrogram()\n",
      "  (transform): Sequential(\n",
      "    (0): STFT()\n",
      "    (1): Spectrogram()\n",
      "  )\n",
      "  (fc1): Linear(in_features=4098, out_features=512, bias=False)\n",
      "  (bn1): BatchNorm1d(512, eps=1e-05, momentum=0.1, affine=True, track_running_stats=True)\n",
      "  (lstm): LSTM(512, 256, num_layers=3, dropout=0.4, bidirectional=True)\n",
      "  (fc2): Linear(in_features=1024, out_features=512, bias=False)\n",
      "  (bn2): BatchNorm1d(512, eps=1e-05, momentum=0.1, affine=True, track_running_stats=True)\n",
      "  (fc3): Linear(in_features=512, out_features=4098, bias=False)\n",
      "  (bn3): BatchNorm1d(4098, eps=1e-05, momentum=0.1, affine=True, track_running_stats=True)\n",
      ")\n"
     ]
    },
    {
     "name": "stderr",
     "output_type": "stream",
     "text": [
      "100%|██████████| 1/1 [00:04<00:00,  4.09s/it]\n"
     ]
    },
    {
     "name": "stdout",
     "output_type": "stream",
     "text": [
      "SAVED SEPARATED VOCALS AND ACCOMPANIMENTS!\n"
     ]
    },
    {
     "name": "stderr",
     "output_type": "stream",
     "text": [
      "\r",
      "  0%|          | 0/1 [00:00<?, ?it/s]"
     ]
    },
    {
     "name": "stdout",
     "output_type": "stream",
     "text": [
      "Saving json file\n",
      "Saved!\n",
      "Yaman_res_plus_comp77_t\n",
      "CHECK OpenUnmix(\n",
      "  (stft): STFT()\n",
      "  (spec): Spectrogram()\n",
      "  (transform): Sequential(\n",
      "    (0): STFT()\n",
      "    (1): Spectrogram()\n",
      "  )\n",
      "  (fc1): Linear(in_features=4098, out_features=512, bias=False)\n",
      "  (bn1): BatchNorm1d(512, eps=1e-05, momentum=0.1, affine=True, track_running_stats=True)\n",
      "  (lstm): LSTM(512, 256, num_layers=3, dropout=0.4, bidirectional=True)\n",
      "  (fc2): Linear(in_features=1024, out_features=512, bias=False)\n",
      "  (bn2): BatchNorm1d(512, eps=1e-05, momentum=0.1, affine=True, track_running_stats=True)\n",
      "  (fc3): Linear(in_features=512, out_features=4098, bias=False)\n",
      "  (bn3): BatchNorm1d(4098, eps=1e-05, momentum=0.1, affine=True, track_running_stats=True)\n",
      ")\n"
     ]
    },
    {
     "name": "stderr",
     "output_type": "stream",
     "text": [
      "100%|██████████| 1/1 [00:04<00:00,  4.13s/it]\n"
     ]
    },
    {
     "name": "stdout",
     "output_type": "stream",
     "text": [
      "SAVED SEPARATED VOCALS AND ACCOMPANIMENTS!\n"
     ]
    },
    {
     "name": "stderr",
     "output_type": "stream",
     "text": [
      "\r",
      "  0%|          | 0/1 [00:00<?, ?it/s]"
     ]
    },
    {
     "name": "stdout",
     "output_type": "stream",
     "text": [
      "Saving json file\n",
      "Saved!\n",
      "Yaman_res_plus_comp80_t\n",
      "CHECK OpenUnmix(\n",
      "  (stft): STFT()\n",
      "  (spec): Spectrogram()\n",
      "  (transform): Sequential(\n",
      "    (0): STFT()\n",
      "    (1): Spectrogram()\n",
      "  )\n",
      "  (fc1): Linear(in_features=4098, out_features=512, bias=False)\n",
      "  (bn1): BatchNorm1d(512, eps=1e-05, momentum=0.1, affine=True, track_running_stats=True)\n",
      "  (lstm): LSTM(512, 256, num_layers=3, dropout=0.4, bidirectional=True)\n",
      "  (fc2): Linear(in_features=1024, out_features=512, bias=False)\n",
      "  (bn2): BatchNorm1d(512, eps=1e-05, momentum=0.1, affine=True, track_running_stats=True)\n",
      "  (fc3): Linear(in_features=512, out_features=4098, bias=False)\n",
      "  (bn3): BatchNorm1d(4098, eps=1e-05, momentum=0.1, affine=True, track_running_stats=True)\n",
      ")\n"
     ]
    },
    {
     "name": "stderr",
     "output_type": "stream",
     "text": [
      "100%|██████████| 1/1 [00:04<00:00,  4.10s/it]\n"
     ]
    },
    {
     "name": "stdout",
     "output_type": "stream",
     "text": [
      "SAVED SEPARATED VOCALS AND ACCOMPANIMENTS!\n"
     ]
    },
    {
     "name": "stderr",
     "output_type": "stream",
     "text": [
      "\r",
      "  0%|          | 0/1 [00:00<?, ?it/s]"
     ]
    },
    {
     "name": "stdout",
     "output_type": "stream",
     "text": [
      "Saving json file\n",
      "Saved!\n",
      "Yaman_res_plus_comp81_t\n",
      "CHECK OpenUnmix(\n",
      "  (stft): STFT()\n",
      "  (spec): Spectrogram()\n",
      "  (transform): Sequential(\n",
      "    (0): STFT()\n",
      "    (1): Spectrogram()\n",
      "  )\n",
      "  (fc1): Linear(in_features=4098, out_features=512, bias=False)\n",
      "  (bn1): BatchNorm1d(512, eps=1e-05, momentum=0.1, affine=True, track_running_stats=True)\n",
      "  (lstm): LSTM(512, 256, num_layers=3, dropout=0.4, bidirectional=True)\n",
      "  (fc2): Linear(in_features=1024, out_features=512, bias=False)\n",
      "  (bn2): BatchNorm1d(512, eps=1e-05, momentum=0.1, affine=True, track_running_stats=True)\n",
      "  (fc3): Linear(in_features=512, out_features=4098, bias=False)\n",
      "  (bn3): BatchNorm1d(4098, eps=1e-05, momentum=0.1, affine=True, track_running_stats=True)\n",
      ")\n"
     ]
    },
    {
     "name": "stderr",
     "output_type": "stream",
     "text": [
      "100%|██████████| 1/1 [00:04<00:00,  4.08s/it]\n"
     ]
    },
    {
     "name": "stdout",
     "output_type": "stream",
     "text": [
      "SAVED SEPARATED VOCALS AND ACCOMPANIMENTS!\n"
     ]
    },
    {
     "name": "stderr",
     "output_type": "stream",
     "text": [
      "\r",
      "  0%|          | 0/1 [00:00<?, ?it/s]"
     ]
    },
    {
     "name": "stdout",
     "output_type": "stream",
     "text": [
      "Saving json file\n",
      "Saved!\n",
      "Yaman_res_plus_comp82_t\n",
      "CHECK OpenUnmix(\n",
      "  (stft): STFT()\n",
      "  (spec): Spectrogram()\n",
      "  (transform): Sequential(\n",
      "    (0): STFT()\n",
      "    (1): Spectrogram()\n",
      "  )\n",
      "  (fc1): Linear(in_features=4098, out_features=512, bias=False)\n",
      "  (bn1): BatchNorm1d(512, eps=1e-05, momentum=0.1, affine=True, track_running_stats=True)\n",
      "  (lstm): LSTM(512, 256, num_layers=3, dropout=0.4, bidirectional=True)\n",
      "  (fc2): Linear(in_features=1024, out_features=512, bias=False)\n",
      "  (bn2): BatchNorm1d(512, eps=1e-05, momentum=0.1, affine=True, track_running_stats=True)\n",
      "  (fc3): Linear(in_features=512, out_features=4098, bias=False)\n",
      "  (bn3): BatchNorm1d(4098, eps=1e-05, momentum=0.1, affine=True, track_running_stats=True)\n",
      ")\n"
     ]
    },
    {
     "name": "stderr",
     "output_type": "stream",
     "text": [
      "100%|██████████| 1/1 [00:04<00:00,  4.08s/it]\n"
     ]
    },
    {
     "name": "stdout",
     "output_type": "stream",
     "text": [
      "SAVED SEPARATED VOCALS AND ACCOMPANIMENTS!\n"
     ]
    },
    {
     "name": "stderr",
     "output_type": "stream",
     "text": [
      "\r",
      "  0%|          | 0/1 [00:00<?, ?it/s]"
     ]
    },
    {
     "name": "stdout",
     "output_type": "stream",
     "text": [
      "Saving json file\n",
      "Saved!\n",
      "Yaman_res_plus_comp83_t\n",
      "CHECK OpenUnmix(\n",
      "  (stft): STFT()\n",
      "  (spec): Spectrogram()\n",
      "  (transform): Sequential(\n",
      "    (0): STFT()\n",
      "    (1): Spectrogram()\n",
      "  )\n",
      "  (fc1): Linear(in_features=4098, out_features=512, bias=False)\n",
      "  (bn1): BatchNorm1d(512, eps=1e-05, momentum=0.1, affine=True, track_running_stats=True)\n",
      "  (lstm): LSTM(512, 256, num_layers=3, dropout=0.4, bidirectional=True)\n",
      "  (fc2): Linear(in_features=1024, out_features=512, bias=False)\n",
      "  (bn2): BatchNorm1d(512, eps=1e-05, momentum=0.1, affine=True, track_running_stats=True)\n",
      "  (fc3): Linear(in_features=512, out_features=4098, bias=False)\n",
      "  (bn3): BatchNorm1d(4098, eps=1e-05, momentum=0.1, affine=True, track_running_stats=True)\n",
      ")\n"
     ]
    },
    {
     "name": "stderr",
     "output_type": "stream",
     "text": [
      "100%|██████████| 1/1 [00:04<00:00,  4.06s/it]\n"
     ]
    },
    {
     "name": "stdout",
     "output_type": "stream",
     "text": [
      "SAVED SEPARATED VOCALS AND ACCOMPANIMENTS!\n"
     ]
    },
    {
     "name": "stderr",
     "output_type": "stream",
     "text": [
      "\r",
      "  0%|          | 0/1 [00:00<?, ?it/s]"
     ]
    },
    {
     "name": "stdout",
     "output_type": "stream",
     "text": [
      "Saving json file\n",
      "Saved!\n",
      "Yaman_res_plus_comp84_t\n",
      "CHECK OpenUnmix(\n",
      "  (stft): STFT()\n",
      "  (spec): Spectrogram()\n",
      "  (transform): Sequential(\n",
      "    (0): STFT()\n",
      "    (1): Spectrogram()\n",
      "  )\n",
      "  (fc1): Linear(in_features=4098, out_features=512, bias=False)\n",
      "  (bn1): BatchNorm1d(512, eps=1e-05, momentum=0.1, affine=True, track_running_stats=True)\n",
      "  (lstm): LSTM(512, 256, num_layers=3, dropout=0.4, bidirectional=True)\n",
      "  (fc2): Linear(in_features=1024, out_features=512, bias=False)\n",
      "  (bn2): BatchNorm1d(512, eps=1e-05, momentum=0.1, affine=True, track_running_stats=True)\n",
      "  (fc3): Linear(in_features=512, out_features=4098, bias=False)\n",
      "  (bn3): BatchNorm1d(4098, eps=1e-05, momentum=0.1, affine=True, track_running_stats=True)\n",
      ")\n"
     ]
    },
    {
     "name": "stderr",
     "output_type": "stream",
     "text": [
      "100%|██████████| 1/1 [00:04<00:00,  4.09s/it]\n"
     ]
    },
    {
     "name": "stdout",
     "output_type": "stream",
     "text": [
      "SAVED SEPARATED VOCALS AND ACCOMPANIMENTS!\n"
     ]
    },
    {
     "name": "stderr",
     "output_type": "stream",
     "text": [
      "\r",
      "  0%|          | 0/1 [00:00<?, ?it/s]"
     ]
    },
    {
     "name": "stdout",
     "output_type": "stream",
     "text": [
      "Saving json file\n",
      "Saved!\n",
      "Yaman_res_plus_comp85_t\n",
      "CHECK OpenUnmix(\n",
      "  (stft): STFT()\n",
      "  (spec): Spectrogram()\n",
      "  (transform): Sequential(\n",
      "    (0): STFT()\n",
      "    (1): Spectrogram()\n",
      "  )\n",
      "  (fc1): Linear(in_features=4098, out_features=512, bias=False)\n",
      "  (bn1): BatchNorm1d(512, eps=1e-05, momentum=0.1, affine=True, track_running_stats=True)\n",
      "  (lstm): LSTM(512, 256, num_layers=3, dropout=0.4, bidirectional=True)\n",
      "  (fc2): Linear(in_features=1024, out_features=512, bias=False)\n",
      "  (bn2): BatchNorm1d(512, eps=1e-05, momentum=0.1, affine=True, track_running_stats=True)\n",
      "  (fc3): Linear(in_features=512, out_features=4098, bias=False)\n",
      "  (bn3): BatchNorm1d(4098, eps=1e-05, momentum=0.1, affine=True, track_running_stats=True)\n",
      ")\n"
     ]
    },
    {
     "name": "stderr",
     "output_type": "stream",
     "text": [
      "100%|██████████| 1/1 [00:04<00:00,  4.08s/it]\n"
     ]
    },
    {
     "name": "stdout",
     "output_type": "stream",
     "text": [
      "SAVED SEPARATED VOCALS AND ACCOMPANIMENTS!\n"
     ]
    },
    {
     "name": "stderr",
     "output_type": "stream",
     "text": [
      "\r",
      "  0%|          | 0/1 [00:00<?, ?it/s]"
     ]
    },
    {
     "name": "stdout",
     "output_type": "stream",
     "text": [
      "Saving json file\n",
      "Saved!\n",
      "Yaman_res_plus_comp86_t\n",
      "CHECK OpenUnmix(\n",
      "  (stft): STFT()\n",
      "  (spec): Spectrogram()\n",
      "  (transform): Sequential(\n",
      "    (0): STFT()\n",
      "    (1): Spectrogram()\n",
      "  )\n",
      "  (fc1): Linear(in_features=4098, out_features=512, bias=False)\n",
      "  (bn1): BatchNorm1d(512, eps=1e-05, momentum=0.1, affine=True, track_running_stats=True)\n",
      "  (lstm): LSTM(512, 256, num_layers=3, dropout=0.4, bidirectional=True)\n",
      "  (fc2): Linear(in_features=1024, out_features=512, bias=False)\n",
      "  (bn2): BatchNorm1d(512, eps=1e-05, momentum=0.1, affine=True, track_running_stats=True)\n",
      "  (fc3): Linear(in_features=512, out_features=4098, bias=False)\n",
      "  (bn3): BatchNorm1d(4098, eps=1e-05, momentum=0.1, affine=True, track_running_stats=True)\n",
      ")\n"
     ]
    },
    {
     "name": "stderr",
     "output_type": "stream",
     "text": [
      "100%|██████████| 1/1 [00:04<00:00,  4.02s/it]\n"
     ]
    },
    {
     "name": "stdout",
     "output_type": "stream",
     "text": [
      "SAVED SEPARATED VOCALS AND ACCOMPANIMENTS!\n",
      "Saving json file\n",
      "Saved!\n"
     ]
    }
   ],
   "source": [
    "# iterate over all tracks present in test folder\n",
    "for track in mus.tracks:\n",
    "    outdir = exp_model_res_path + track.name + '/'    \n",
    "    print(track.name)\n",
    "    estimates = test.separate(\n",
    "        audio=track.audio,\n",
    "        targets=targets,\n",
    "        model_name=model,\n",
    "        niter=2,\n",
    "        alpha=1,\n",
    "        softmask=False,\n",
    "        #device=device\n",
    "    )    \n",
    "    \n",
    "    for target, estimate in estimates.items():\n",
    "        sf.write(\n",
    "            outdir / Path(target).with_suffix('.wav'),\n",
    "            estimate,\n",
    "            samplerate\n",
    "        )\n",
    "    \n",
    "    print(\"SAVED SEPARATED VOCALS AND ACCOMPANIMENTS!\")\n",
    "    \n",
    "    audio_estimates = []\n",
    "    audio_reference = []\n",
    "    eval_targets = []\n",
    "\n",
    "    for key, target in list(track.targets.items()):\n",
    "        try:\n",
    "            # try to fetch the audio from the user_results of a given key\n",
    "            estimates[key]\n",
    "        except KeyError:\n",
    "            # ignore wrong key and continue\n",
    "            continue\n",
    "        eval_targets.append(key)\n",
    "        \n",
    "    mode='v4'\n",
    "    win=1.0\n",
    "    hop=1.0\n",
    "    data = museval.aggregate.TrackStore(win=win, hop=hop, track_name=track.name)\n",
    "\n",
    "    # check if vocals and accompaniment is among the targets\n",
    "    has_acc = all(x in eval_targets for x in ['vocals', 'accompaniment'])\n",
    "    if has_acc:\n",
    "        # remove accompaniment from list of targets, because\n",
    "        # the voc/acc scenario will be evaluated separately\n",
    "        eval_targets.remove('accompaniment')\n",
    "        \n",
    "    audio_estimates.append(estimates['vocals'])\n",
    "    audio_reference.append(track.targets['vocals'].audio)\n",
    "    \n",
    "    SDR, ISR, SIR, SAR = evaluate(\n",
    "            audio_reference,\n",
    "            audio_estimates,\n",
    "            win=int(win*track.rate),\n",
    "            hop=int(hop*track.rate),\n",
    "            mode=mode\n",
    "        )\n",
    "    \n",
    "    save_dict = {}\n",
    "    save_dict['SDR'] = SDR[0].tolist()\n",
    "    save_dict['ISR'] = ISR[0].tolist()\n",
    "    save_dict['SDR_median'] = np.median(SDR[0])\n",
    "    save_dict['ISR_median'] = np.median(ISR[0])\n",
    "    \n",
    "    save_file = outdir + \"evaluation.json\"\n",
    "    \n",
    "    print(\"Saving json file\")\n",
    "    \n",
    "    with open(save_file, 'w') as outfile:\n",
    "        json.dump(save_dict, outfile)\n",
    "\n",
    "    print(\"Saved!\")\n"
   ]
  },
  {
   "cell_type": "code",
   "execution_count": 19,
   "metadata": {},
   "outputs": [
    {
     "name": "stdout",
     "output_type": "stream",
     "text": [
      "Yaman_res_plus_comp83_t\n",
      "Extracting Pitch\n",
      "Pitch extracted!\n",
      "Calculating pitch accuracy measures\n",
      "Yaman_res_plus_comp77_t\n",
      "Extracting Pitch\n",
      "Pitch extracted!\n",
      "Calculating pitch accuracy measures\n",
      "Yaman_res_plus_comp81_t\n",
      "Extracting Pitch\n",
      "Pitch extracted!\n",
      "Calculating pitch accuracy measures\n",
      "Yaman_res_plus_comp86_t\n",
      "Extracting Pitch\n",
      "Pitch extracted!\n",
      "Calculating pitch accuracy measures\n",
      "Yaman_res_plus_comp85_t\n",
      "Extracting Pitch\n",
      "Pitch extracted!\n",
      "Calculating pitch accuracy measures\n",
      "Yaman_res_plus_comp69_t\n",
      "Extracting Pitch\n",
      "Pitch extracted!\n",
      "Calculating pitch accuracy measures\n",
      "Yaman_res_plus_comp55_t\n",
      "Extracting Pitch\n"
     ]
    },
    {
     "ename": "KeyboardInterrupt",
     "evalue": "",
     "output_type": "error",
     "traceback": [
      "\u001b[0;31m---------------------------------------------------------------------------\u001b[0m",
      "\u001b[0;31mKeyboardInterrupt\u001b[0m                         Traceback (most recent call last)",
      "\u001b[0;32m<ipython-input-19-6b045a130ba4>\u001b[0m in \u001b[0;36m<module>\u001b[0;34m\u001b[0m\n\u001b[1;32m     19\u001b[0m \u001b[0;34m\u001b[0m\u001b[0m\n\u001b[1;32m     20\u001b[0m     \u001b[0mf_clean_vocs\u001b[0m\u001b[0;34m,\u001b[0m \u001b[0mconf_clean_vocs\u001b[0m \u001b[0;34m=\u001b[0m \u001b[0mpyin\u001b[0m\u001b[0;34m(\u001b[0m\u001b[0mclean_vocs\u001b[0m\u001b[0;34m)\u001b[0m\u001b[0;34m\u001b[0m\u001b[0;34m\u001b[0m\u001b[0m\n\u001b[0;32m---> 21\u001b[0;31m     \u001b[0mf_extr_vocs\u001b[0m\u001b[0;34m,\u001b[0m \u001b[0mconf_extr_vocs\u001b[0m \u001b[0;34m=\u001b[0m \u001b[0mpyin\u001b[0m\u001b[0;34m(\u001b[0m\u001b[0mextr_vocs\u001b[0m\u001b[0;34m)\u001b[0m\u001b[0;34m\u001b[0m\u001b[0;34m\u001b[0m\u001b[0m\n\u001b[0m\u001b[1;32m     22\u001b[0m \u001b[0;34m\u001b[0m\u001b[0m\n\u001b[1;32m     23\u001b[0m     \u001b[0mprint\u001b[0m\u001b[0;34m(\u001b[0m\u001b[0;34m\"Pitch extracted!\"\u001b[0m\u001b[0;34m)\u001b[0m\u001b[0;34m\u001b[0m\u001b[0;34m\u001b[0m\u001b[0m\n",
      "\u001b[0;32m~/.local/lib/python3.6/site-packages/essentia/standard.py\u001b[0m in \u001b[0;36m__call__\u001b[0;34m(self, *args)\u001b[0m\n\u001b[1;32m    116\u001b[0m \u001b[0;34m\u001b[0m\u001b[0m\n\u001b[1;32m    117\u001b[0m         \u001b[0;32mdef\u001b[0m \u001b[0m__call__\u001b[0m\u001b[0;34m(\u001b[0m\u001b[0mself\u001b[0m\u001b[0;34m,\u001b[0m \u001b[0;34m*\u001b[0m\u001b[0margs\u001b[0m\u001b[0;34m)\u001b[0m\u001b[0;34m:\u001b[0m\u001b[0;34m\u001b[0m\u001b[0;34m\u001b[0m\u001b[0m\n\u001b[0;32m--> 118\u001b[0;31m             \u001b[0;32mreturn\u001b[0m \u001b[0mself\u001b[0m\u001b[0;34m.\u001b[0m\u001b[0mcompute\u001b[0m\u001b[0;34m(\u001b[0m\u001b[0;34m*\u001b[0m\u001b[0margs\u001b[0m\u001b[0;34m)\u001b[0m\u001b[0;34m\u001b[0m\u001b[0;34m\u001b[0m\u001b[0m\n\u001b[0m\u001b[1;32m    119\u001b[0m \u001b[0;34m\u001b[0m\u001b[0m\n\u001b[1;32m    120\u001b[0m         \u001b[0;32mdef\u001b[0m \u001b[0m__str__\u001b[0m\u001b[0;34m(\u001b[0m\u001b[0mself\u001b[0m\u001b[0;34m)\u001b[0m\u001b[0;34m:\u001b[0m\u001b[0;34m\u001b[0m\u001b[0;34m\u001b[0m\u001b[0m\n",
      "\u001b[0;32m~/.local/lib/python3.6/site-packages/essentia/standard.py\u001b[0m in \u001b[0;36mcompute\u001b[0;34m(self, *args)\u001b[0m\n\u001b[1;32m     97\u001b[0m                 \u001b[0mconvertedArgs\u001b[0m\u001b[0;34m.\u001b[0m\u001b[0mappend\u001b[0m\u001b[0;34m(\u001b[0m\u001b[0mconvertedData\u001b[0m\u001b[0;34m)\u001b[0m\u001b[0;34m\u001b[0m\u001b[0;34m\u001b[0m\u001b[0m\n\u001b[1;32m     98\u001b[0m \u001b[0;34m\u001b[0m\u001b[0m\n\u001b[0;32m---> 99\u001b[0;31m             \u001b[0mresults\u001b[0m \u001b[0;34m=\u001b[0m \u001b[0mself\u001b[0m\u001b[0;34m.\u001b[0m\u001b[0m__compute__\u001b[0m\u001b[0;34m(\u001b[0m\u001b[0;34m*\u001b[0m\u001b[0mconvertedArgs\u001b[0m\u001b[0;34m)\u001b[0m\u001b[0;34m\u001b[0m\u001b[0;34m\u001b[0m\u001b[0m\n\u001b[0m\u001b[1;32m    100\u001b[0m \u001b[0;34m\u001b[0m\u001b[0m\n\u001b[1;32m    101\u001b[0m             \u001b[0;31m# we have to make an exceptional case for YamlInput, because we need\u001b[0m\u001b[0;34m\u001b[0m\u001b[0;34m\u001b[0m\u001b[0;34m\u001b[0m\u001b[0m\n",
      "\u001b[0;31mKeyboardInterrupt\u001b[0m: "
     ]
    },
    {
     "data": {
      "image/png": "[encoded data removed]",
      "text/plain": [
       "<Figure size 432x288 with 1 Axes>"
      ]
     },
     "metadata": {
      "needs_background": "light"
     },
     "output_type": "display_data"
    }
   ],
   "source": [
    "# Begin evaluation of pitch accuracy (PYIN)\n",
    "W = 1024\n",
    "H = 512\n",
    "\n",
    "for track in os.listdir(exp_model_res_path):\n",
    "    print(track)\n",
    "    print(\"Extracting Pitch\")\n",
    "    \n",
    "    clean_vocs_path = test_data_folder + track + '/vocals.wav'\n",
    "    extr_vocs_path = exp_model_res_path + track + '/vocals.wav'\n",
    "    \n",
    "    clean_vocs = ess.MonoLoader(sampleRate=22050 , filename=clean_vocs_path)()\n",
    "    extr_vocs = ess.MonoLoader(sampleRate=22050 , filename=extr_vocs_path)()\n",
    "\n",
    "    #     t_clean_vocs, f_clean_vocs, conf_clean_vocs, act_clean_vocs = crepe.predict(clean_vocs, r1, viterbi=True)\n",
    "    #     t_extr_vocs, f_extr_vocs, conf_extr_vocs, act_extr_vocs = crepe.predict(extr_vocs, r2, viterbi=True)\n",
    "\n",
    "    pyin = ess.PitchYinProbabilistic(frameSize=W, hopSize=H)\n",
    "\n",
    "    f_clean_vocs, conf_clean_vocs = pyin(clean_vocs)\n",
    "    f_extr_vocs, conf_extr_vocs = pyin(extr_vocs)\n",
    "    \n",
    "    print(\"Pitch extracted!\")\n",
    "    \n",
    "    \n",
    "    #Make entire frequency array postivie\n",
    "    f_clean_vocs = np.absolute(f_clean_vocs)\n",
    "    f_extr_vocs = np.absolute(f_extr_vocs)    \n",
    "\n",
    "    if (f_clean_vocs.shape[0]>f_extr_vocs.shape[0]):\n",
    "        f_clean_vocs = f_clean_vocs[:f_extr_vocs.shape[0]]\n",
    "        conf_clean_vocs = conf_clean_vocs[:f_extr_vocs.shape[0]]\n",
    "        #t_clean_vocs = t_extr_vocs\n",
    "    elif (f_clean_vocs.shape[0]<=f_extr_vocs.shape[0]):\n",
    "        f_extr_vocs = f_extr_vocs[:f_clean_vocs.shape[0]]\n",
    "        conf_extr_vocs = conf_extr_vocs[:f_clean_vocs.shape[0]]\n",
    "        #t_extr_vocs = t_clean_vocs\n",
    "    \n",
    "    #plt.plot((f_clean_vocs-f_extr_vocs)**2)\n",
    "    #plt.plot(f_clean_vocs)\n",
    "    #plt.show()\n",
    "    \n",
    "    #Convert frequency to cents\n",
    "    f_clean_vocs_cents = mir_eval.melody.hz2cents(f_clean_vocs)\n",
    "    f_extr_vocs_cents = mir_eval.melody.hz2cents(f_extr_vocs)\n",
    "    \n",
    "    plt.plot((f_clean_vocs_cents-f_extr_vocs_cents)**2)\n",
    "    outdir = exp_model_res_path + track + '/'\n",
    "    plt.savefig(outdir + \"freq_mse.png\")\n",
    "    \n",
    "#     np.savetxt(outdir+'clean_pitch.csv', f_clean_vocs, delimiter=',')\n",
    "#     np.savetxt(outdir+'extr_pitch.csv', f_extr_vocs , delimiter=',')\n",
    "\n",
    "\n",
    "    #Convert voicing probabilites to binary vector, with a given threshold\n",
    "    conf_clean_vocs_bin = np.zeros(np.shape(conf_clean_vocs))\n",
    "    conf_extr_vocs_bin = np.zeros(np.shape(conf_extr_vocs))\n",
    "    thresh = 0.5\n",
    "    for i in range(conf_clean_vocs_bin.shape[0]):\n",
    "        if (conf_clean_vocs[i]>thresh):\n",
    "            conf_clean_vocs_bin[i]=1\n",
    "        if (conf_extr_vocs[i]>thresh):\n",
    "            conf_extr_vocs_bin[i]=1\n",
    "            \n",
    "    print(\"Calculating pitch accuracy measures\")\n",
    "    \n",
    "    #Voicing accuracy measures    \n",
    "    v_rec, fal_al = mir_eval.melody.voicing_measures(conf_clean_vocs_bin, conf_extr_vocs_bin)\n",
    "\n",
    "    #Calculate raw pitch accuracy - Default cent_tolerance=50\n",
    "    rpa = mir_eval.melody.raw_pitch_accuracy(conf_clean_vocs_bin, f_clean_vocs_cents, conf_extr_vocs_bin, f_extr_vocs_cents)\n",
    "\n",
    "    #Calculate raw chroma accuracy - Default cent_tolerance=50\n",
    "    rca = mir_eval.melody.raw_chroma_accuracy(conf_clean_vocs_bin, f_clean_vocs_cents, conf_extr_vocs_bin, f_extr_vocs_cents)\n",
    "\n",
    "    #Calculate overall accuracy\n",
    "    ov_acc = mir_eval.melody.overall_accuracy(conf_clean_vocs_bin, f_clean_vocs_cents, conf_extr_vocs_bin, f_extr_vocs_cents)\n",
    "\n",
    "    outdir = exp_model_res_path + track + '/'\n",
    "    save_file = outdir + \"pitch_evaluation.json\"\n",
    "    \n",
    "    #Save pitch evaluations in json file\n",
    "    pitch_track_eval = {}\n",
    "    pitch_track_eval['Voicing recall'] = v_rec\n",
    "    pitch_track_eval['False alarm'] = fal_al\n",
    "    pitch_track_eval['Raw pitch accuracy'] = rpa\n",
    "    pitch_track_eval['Raw chroma accuracy'] = rca\n",
    "    pitch_track_eval['Overall accuracy'] = ov_acc\n",
    "\n",
    "#     with open(save_file, 'w') as fp:\n",
    "#         json.dump(pitch_track_eval, fp)\n",
    "    \n",
    "#     print(\"Pitch accuracy measures saved!\")\n",
    "    \n",
    "    \n"
   ]
  },
  {
   "cell_type": "code",
   "execution_count": 30,
   "metadata": {},
   "outputs": [
    {
     "name": "stdout",
     "output_type": "stream",
     "text": [
      "Yaman_res_plus_comp83_t\n",
      "Extracting Pitch\n",
      "21192/21192 [==============================] - 6s 283us/step\n",
      "21191/21191 [==============================] - 6s 284us/step\n",
      "(21192,)\n",
      "(21192,)\n",
      "Pitch extracted!\n",
      "Calculating pitch accuracy measures\n",
      "Pitch accuracy measures saved!\n",
      "Yaman_res_plus_comp77_t\n",
      "Extracting Pitch\n",
      "21192/21192 [==============================] - 6s 281us/step\n",
      "21191/21191 [==============================] - 6s 279us/step\n",
      "(21192,)\n",
      "(21192,)\n",
      "Pitch extracted!\n",
      "Calculating pitch accuracy measures\n",
      "Pitch accuracy measures saved!\n",
      "Yaman_res_plus_comp81_t\n",
      "Extracting Pitch\n",
      "21192/21192 [==============================] - 6s 282us/step\n",
      "21191/21191 [==============================] - 6s 282us/step\n",
      "(21192,)\n",
      "(21192,)\n",
      "Pitch extracted!\n",
      "Calculating pitch accuracy measures\n",
      "Pitch accuracy measures saved!\n",
      "Yaman_res_plus_comp86_t\n",
      "Extracting Pitch\n",
      "21192/21192 [==============================] - 6s 280us/step\n",
      "21191/21191 [==============================] - 6s 282us/step\n",
      "(21192,)\n",
      "(21192,)\n",
      "Pitch extracted!\n",
      "Calculating pitch accuracy measures\n",
      "Pitch accuracy measures saved!\n",
      "Yaman_res_plus_comp85_t\n",
      "Extracting Pitch\n",
      "21192/21192 [==============================] - 6s 282us/step\n",
      "21191/21191 [==============================] - 6s 281us/step\n",
      "(21192,)\n",
      "(21192,)\n",
      "Pitch extracted!\n",
      "Calculating pitch accuracy measures\n",
      "Pitch accuracy measures saved!\n",
      "Yaman_res_plus_comp69_t\n",
      "Extracting Pitch\n",
      "21192/21192 [==============================] - 6s 283us/step\n",
      "21191/21191 [==============================] - 6s 281us/step\n",
      "(21192,)\n",
      "(21192,)\n",
      "Pitch extracted!\n",
      "Calculating pitch accuracy measures\n",
      "Pitch accuracy measures saved!\n",
      "Yaman_res_plus_comp55_t\n",
      "Extracting Pitch\n",
      "21192/21192 [==============================] - 6s 281us/step\n",
      "21191/21191 [==============================] - 6s 281us/step\n",
      "(21192,)\n",
      "(21192,)\n",
      "Pitch extracted!\n",
      "Calculating pitch accuracy measures\n",
      "Pitch accuracy measures saved!\n",
      "Yaman_res_plus_comp76_t\n",
      "Extracting Pitch\n",
      "21192/21192 [==============================] - 6s 281us/step\n",
      "21191/21191 [==============================] - 6s 283us/step\n",
      "(21192,)\n",
      "(21192,)\n",
      "Pitch extracted!\n",
      "Calculating pitch accuracy measures\n",
      "Pitch accuracy measures saved!\n",
      "Yaman_res_plus_comp50_t\n",
      "Extracting Pitch\n",
      "21192/21192 [==============================] - 6s 283us/step\n",
      "21191/21191 [==============================] - 6s 283us/step\n",
      "(21192,)\n",
      "(21192,)\n",
      "Pitch extracted!\n",
      "Calculating pitch accuracy measures\n",
      "Pitch accuracy measures saved!\n",
      "Yaman_res_plus_comp84_t\n",
      "Extracting Pitch\n",
      "21192/21192 [==============================] - 6s 282us/step\n",
      "21191/21191 [==============================] - 6s 282us/step\n",
      "(21192,)\n",
      "(21192,)\n",
      "Pitch extracted!\n",
      "Calculating pitch accuracy measures\n",
      "Pitch accuracy measures saved!\n",
      "Yaman_res_plus_comp56_t\n",
      "Extracting Pitch\n",
      "21192/21192 [==============================] - 6s 281us/step\n",
      "21191/21191 [==============================] - 6s 281us/step\n",
      "(21192,)\n",
      "(21192,)\n",
      "Pitch extracted!\n",
      "Calculating pitch accuracy measures\n",
      "Pitch accuracy measures saved!\n",
      "Yaman_res_plus_comp80_t\n",
      "Extracting Pitch\n",
      "21192/21192 [==============================] - 6s 283us/step\n",
      "21191/21191 [==============================] - 6s 282us/step\n",
      "(21192,)\n",
      "(21192,)\n",
      "Pitch extracted!\n",
      "Calculating pitch accuracy measures\n",
      "Pitch accuracy measures saved!\n",
      "Yaman_res_plus_comp52_t\n",
      "Extracting Pitch\n",
      "21192/21192 [==============================] - 6s 282us/step\n",
      "21191/21191 [==============================] - 6s 293us/step\n",
      "(21192,)\n",
      "(21192,)\n",
      "Pitch extracted!\n",
      "Calculating pitch accuracy measures\n",
      "Pitch accuracy measures saved!\n",
      "Yaman_res_plus_comp51_t\n",
      "Extracting Pitch\n",
      "21192/21192 [==============================] - 6s 281us/step\n",
      "21191/21191 [==============================] - 6s 280us/step\n",
      "(21192,)\n",
      "(21192,)\n",
      "Pitch extracted!\n",
      "Calculating pitch accuracy measures\n",
      "Pitch accuracy measures saved!\n",
      "Yaman_res_plus_comp82_t\n",
      "Extracting Pitch\n",
      "21192/21192 [==============================] - 6s 283us/step\n",
      "21191/21191 [==============================] - 6s 282us/step\n",
      "(21192,)\n",
      "(21192,)\n",
      "Pitch extracted!\n",
      "Calculating pitch accuracy measures\n",
      "Pitch accuracy measures saved!\n"
     ]
    },
    {
     "data": {
      "image/png": "[encoded data removed]",
      "text/plain": [
       "<Figure size 432x288 with 1 Axes>"
      ]
     },
     "metadata": {
      "needs_background": "light"
     },
     "output_type": "display_data"
    }
   ],
   "source": [
    "# Begin evaluation of pitch accuracy (CREPE)\n",
    "W = 1024\n",
    "H = 512\n",
    "\n",
    "for track in os.listdir(exp_model_res_path):\n",
    "    print(track)\n",
    "    print(\"Extracting Pitch\")\n",
    "    \n",
    "    clean_vocs_path = test_data_folder + track + '/vocals.wav'\n",
    "    extr_vocs_path = exp_model_res_path + track + '/vocals.wav'\n",
    "    \n",
    "    clean_vocs = ess.MonoLoader(sampleRate=22050 , filename=clean_vocs_path)()\n",
    "    extr_vocs = ess.MonoLoader(sampleRate=22050 , filename=extr_vocs_path)()\n",
    "\n",
    "    t_clean_vocs, f_clean_vocs, conf_clean_vocs, act_clean_vocs = crepe.predict(clean_vocs, 22050, viterbi=True)\n",
    "    t_extr_vocs, f_extr_vocs, conf_extr_vocs, act_extr_vocs = crepe.predict(extr_vocs, 22050, viterbi=True)\n",
    "\n",
    "#     pyin = ess.PitchYinProbabilistic(frameSize=W, hopSize=H)\n",
    "\n",
    "#     f_clean_vocs, conf_clean_vocs = pyin(clean_vocs)\n",
    "#     f_extr_vocs, conf_extr_vocs = pyin(extr_vocs)\n",
    "\n",
    "    print(f_clean_vocs.shape)\n",
    "    print(t_clean_vocs.shape)\n",
    "    \n",
    "    print(\"Pitch extracted!\")\n",
    "    \n",
    "    \n",
    "    #Make entire frequency array postivie\n",
    "    f_clean_vocs = np.absolute(f_clean_vocs)\n",
    "    f_extr_vocs = np.absolute(f_extr_vocs)    \n",
    "\n",
    "    if (f_clean_vocs.shape[0]>f_extr_vocs.shape[0]):\n",
    "        f_clean_vocs = f_clean_vocs[:f_extr_vocs.shape[0]]\n",
    "        conf_clean_vocs = conf_clean_vocs[:f_extr_vocs.shape[0]]\n",
    "        #t_clean_vocs = t_extr_vocs\n",
    "    elif (f_clean_vocs.shape[0]<=f_extr_vocs.shape[0]):\n",
    "        f_extr_vocs = f_extr_vocs[:f_clean_vocs.shape[0]]\n",
    "        conf_extr_vocs = conf_extr_vocs[:f_clean_vocs.shape[0]]\n",
    "        #t_extr_vocs = t_clean_vocs\n",
    "    \n",
    "    #plt.plot((f_clean_vocs-f_extr_vocs)**2)\n",
    "    #plt.plot(f_clean_vocs)\n",
    "    #plt.show()\n",
    "    \n",
    "    #Convert frequency to cents\n",
    "    f_clean_vocs_cents = mir_eval.melody.hz2cents(f_clean_vocs)\n",
    "    f_extr_vocs_cents = mir_eval.melody.hz2cents(f_extr_vocs)\n",
    "    \n",
    "    plt.plot((f_clean_vocs_cents-f_extr_vocs_cents)**2)\n",
    "    outdir = exp_model_res_path + track + '/'\n",
    "    plt.savefig(outdir + \"freq_mse_CREPE.png\")\n",
    "\n",
    "    clean_pitch_track =  np.transpose(np.concatenate((np.atleast_2d(t_clean_vocs), np.atleast_2d(f_clean_vocs)), axis=0))\n",
    "    extr_pitch_track =  np.transpose(np.concatenate((np.atleast_2d(t_extr_vocs), np.atleast_2d(f_extr_vocs)), axis=0))\n",
    "\n",
    "    np.savetxt(outdir+'clean_pitch_crepe.csv', clean_pitch_track, delimiter=',')\n",
    "    np.savetxt(outdir+'extr_pitch_crepe.csv', extr_pitch_track , delimiter=',')\n",
    "    \n",
    "    \n",
    "    \n",
    "#     np.savetxt(outdir+'clean_pitch.csv', f_clean_vocs, delimiter=',')\n",
    "#     np.savetxt(outdir+'extr_pitch.csv', f_extr_vocs , delimiter=',')\n",
    "\n",
    "\n",
    "    #Convert voicing probabilites to binary vector, with a given threshold\n",
    "    conf_clean_vocs_bin = np.zeros(np.shape(conf_clean_vocs))\n",
    "    conf_extr_vocs_bin = np.zeros(np.shape(conf_extr_vocs))\n",
    "    thresh = 0.5\n",
    "    for i in range(conf_clean_vocs_bin.shape[0]):\n",
    "        if (conf_clean_vocs[i]>thresh):\n",
    "            conf_clean_vocs_bin[i]=1\n",
    "        if (conf_extr_vocs[i]>thresh):\n",
    "            conf_extr_vocs_bin[i]=1\n",
    "            \n",
    "    print(\"Calculating pitch accuracy measures\")\n",
    "    \n",
    "    #Voicing accuracy measures    \n",
    "    v_rec, fal_al = mir_eval.melody.voicing_measures(conf_clean_vocs_bin, conf_extr_vocs_bin)\n",
    "\n",
    "    #Calculate raw pitch accuracy - Default cent_tolerance=50\n",
    "    rpa = mir_eval.melody.raw_pitch_accuracy(conf_clean_vocs_bin, f_clean_vocs_cents, conf_extr_vocs_bin, f_extr_vocs_cents)\n",
    "\n",
    "    #Calculate raw chroma accuracy - Default cent_tolerance=50\n",
    "    rca = mir_eval.melody.raw_chroma_accuracy(conf_clean_vocs_bin, f_clean_vocs_cents, conf_extr_vocs_bin, f_extr_vocs_cents)\n",
    "\n",
    "    #Calculate overall accuracy\n",
    "    ov_acc = mir_eval.melody.overall_accuracy(conf_clean_vocs_bin, f_clean_vocs_cents, conf_extr_vocs_bin, f_extr_vocs_cents)\n",
    "\n",
    "    outdir = exp_model_res_path + track + '/'\n",
    "    save_file = outdir + \"pitch_evaluation_CREPE.json\"\n",
    "    \n",
    "    #Save pitch evaluations in json file\n",
    "    pitch_track_eval = {}\n",
    "    pitch_track_eval['Voicing recall'] = v_rec\n",
    "    pitch_track_eval['False alarm'] = fal_al\n",
    "    pitch_track_eval['Raw pitch accuracy'] = rpa\n",
    "    pitch_track_eval['Raw chroma accuracy'] = rca\n",
    "    pitch_track_eval['Overall accuracy'] = ov_acc\n",
    "\n",
    "    with open(save_file, 'w') as fp:\n",
    "        json.dump(pitch_track_eval, fp)\n",
    "    \n",
    "    print(\"Pitch accuracy measures saved!\")\n",
    "    \n",
    "    \n"
   ]
  },
  {
   "cell_type": "code",
   "execution_count": 22,
   "metadata": {},
   "outputs": [
    {
     "data": {
      "text/plain": [
       "array([0.08924547, 0.07944077, 0.10079125, ..., 0.08373967, 0.07770112,\n",
       "       0.10642526], dtype=float32)"
      ]
     },
     "execution_count": 22,
     "metadata": {},
     "output_type": "execute_result"
    }
   ],
   "source": [
    "conf_clean_vocs"
   ]
  },
  {
   "cell_type": "code",
   "execution_count": null,
   "metadata": {},
   "outputs": [],
   "source": []
  },
  {
   "cell_type": "code",
   "execution_count": null,
   "metadata": {},
   "outputs": [],
   "source": []
  },
  {
   "cell_type": "code",
   "execution_count": null,
   "metadata": {},
   "outputs": [],
   "source": []
  },
  {
   "cell_type": "code",
   "execution_count": 15,
   "metadata": {},
   "outputs": [],
   "source": [
    "outdir = exp_model_res_path + track + '/'\n",
    "save_file = outdir + \"evaluation.json\""
   ]
  },
  {
   "cell_type": "code",
   "execution_count": 18,
   "metadata": {},
   "outputs": [
    {
     "data": {
      "text/plain": [
       "'../test_out/Exp_3/model_new_data_aug2_0_300Hz/Yaman_res_plus_comp82_t/evaluation.json'"
      ]
     },
     "execution_count": 18,
     "metadata": {},
     "output_type": "execute_result"
    }
   ],
   "source": [
    "save_file"
   ]
  },
  {
   "cell_type": "code",
   "execution_count": 18,
   "metadata": {},
   "outputs": [
    {
     "data": {
      "text/plain": [
       "vocals"
      ]
     },
     "execution_count": 18,
     "metadata": {},
     "output_type": "execute_result"
    }
   ],
   "source": [
    "target"
   ]
  },
  {
   "cell_type": "code",
   "execution_count": null,
   "metadata": {},
   "outputs": [],
   "source": []
  },
  {
   "cell_type": "code",
   "execution_count": null,
   "metadata": {},
   "outputs": [],
   "source": []
  },
  {
   "cell_type": "code",
   "execution_count": null,
   "metadata": {},
   "outputs": [],
   "source": []
  },
  {
   "cell_type": "code",
   "execution_count": null,
   "metadata": {},
   "outputs": [],
   "source": []
  },
  {
   "cell_type": "code",
   "execution_count": null,
   "metadata": {},
   "outputs": [],
   "source": []
  },
  {
   "cell_type": "code",
   "execution_count": null,
   "metadata": {},
   "outputs": [],
   "source": []
  },
  {
   "cell_type": "code",
   "execution_count": null,
   "metadata": {},
   "outputs": [],
   "source": []
  },
  {
   "cell_type": "code",
   "execution_count": 25,
   "metadata": {},
   "outputs": [
    {
     "data": {
      "text/plain": [
       "0"
      ]
     },
     "execution_count": 25,
     "metadata": {},
     "output_type": "execute_result"
    }
   ],
   "source": [
    "#os.system(\"python test.py --input ../rec_data_new/test/Yaman_res_plus_comp51_t/mixture.wav --outdir ../rec_data_new/  \")"
   ]
  },
  {
   "cell_type": "code",
   "execution_count": 53,
   "metadata": {},
   "outputs": [],
   "source": [
    "import subprocess"
   ]
  },
  {
   "cell_type": "code",
   "execution_count": 54,
   "metadata": {},
   "outputs": [
    {
     "data": {
      "text/plain": [
       "True"
      ]
     },
     "execution_count": 54,
     "metadata": {},
     "output_type": "execute_result"
    }
   ],
   "source": [
    "l = [\"python\", \"test.py\", \"--input\" , test_eg_source]\n",
    "k = [\"python\", \"test.py\", \"--input\" , '../rec_data_new/test/Yaman_res_plus_comp82_t']\n",
    "\n",
    "l==k"
   ]
  },
  {
   "cell_type": "code",
   "execution_count": 74,
   "metadata": {},
   "outputs": [
    {
     "data": {
      "text/plain": [
       "2"
      ]
     },
     "execution_count": 74,
     "metadata": {},
     "output_type": "execute_result"
    }
   ],
   "source": [
    "#args = \"python test.py --input \" + test_eg_source + \" --outdir \" + test_eg_eval\n",
    "#print(args)\n",
    "#subprocess.call(args, shell=True)\n",
    "\n",
    "subprocess.call([\"python\",  \"test.py --input\", test_eg_source])"
   ]
  },
  {
   "cell_type": "code",
   "execution_count": 66,
   "metadata": {},
   "outputs": [
    {
     "data": {
      "text/plain": [
       "'../test_out/Exp_3/model_new_data_aug2_0_300Hz/Yaman_res_plus_comp82_t/'"
      ]
     },
     "execution_count": 66,
     "metadata": {},
     "output_type": "execute_result"
    }
   ],
   "source": [
    "test_eg_eval"
   ]
  },
  {
   "cell_type": "code",
   "execution_count": 64,
   "metadata": {},
   "outputs": [
    {
     "data": {
      "text/plain": [
       "'../rec_data_new/test/Yaman_res_plus_comp82_t'"
      ]
     },
     "execution_count": 64,
     "metadata": {},
     "output_type": "execute_result"
    }
   ],
   "source": [
    "test_eg_source"
   ]
  },
  {
   "cell_type": "code",
   "execution_count": 38,
   "metadata": {},
   "outputs": [],
   "source": [
    "a = \"../rec_data_new/\""
   ]
  },
  {
   "cell_type": "code",
   "execution_count": null,
   "metadata": {},
   "outputs": [],
   "source": [
    "comm = \"python test.py --input \" + test_eg_source + \" --outdir \" + test_eg_eval\n",
    "    os.system(comm)\n",
    "    print(comm)"
   ]
  },
  {
   "cell_type": "code",
   "execution_count": 79,
   "metadata": {},
   "outputs": [
    {
     "data": {
      "text/plain": [
       "256"
      ]
     },
     "execution_count": 79,
     "metadata": {},
     "output_type": "execute_result"
    }
   ],
   "source": []
  },
  {
   "cell_type": "code",
   "execution_count": 78,
   "metadata": {},
   "outputs": [
    {
     "data": {
      "text/plain": [
       "'../test_out/Exp_3/model_new_data_aug2_0_300Hz/Yaman_res_plus_comp82_t/'"
      ]
     },
     "execution_count": 78,
     "metadata": {},
     "output_type": "execute_result"
    }
   ],
   "source": [
    "test_eg_eval"
   ]
  },
  {
   "cell_type": "code",
   "execution_count": null,
   "metadata": {},
   "outputs": [],
   "source": []
  }
 ],
 "metadata": {
  "kernelspec": {
   "display_name": "Python 3",
   "language": "python",
   "name": "python3"
  },
  "language_info": {
   "codemirror_mode": {
    "name": "ipython",
    "version": 3
   },
   "file_extension": ".py",
   "mimetype": "text/x-python",
   "name": "python",
   "nbconvert_exporter": "python",
   "pygments_lexer": "ipython3",
   "version": "3.6.8"
  }
 },
 "nbformat": 4,
 "nbformat_minor": 2
}
