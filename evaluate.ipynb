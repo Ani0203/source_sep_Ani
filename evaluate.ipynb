{
 "cells": [
  {
   "cell_type": "code",
   "execution_count": 1,
   "metadata": {},
   "outputs": [],
   "source": [
    "import argparse\n",
    "import musdb\n",
    "import museval\n",
    "import test\n",
    "import multiprocessing\n",
    "import functools\n",
    "from pathlib import Path\n",
    "import torch\n",
    "import tqdm"
   ]
  },
  {
   "cell_type": "code",
   "execution_count": 2,
   "metadata": {},
   "outputs": [],
   "source": [
    "def separate_and_evaluate(\n",
    "    track,\n",
    "    targets,\n",
    "    model_name,\n",
    "    niter,\n",
    "    alpha,\n",
    "    softmask,\n",
    "    output_dir,\n",
    "    eval_dir,\n",
    "    device='cpu'\n",
    "):\n",
    "    estimates = test.separate(\n",
    "        audio=track.audio,\n",
    "        targets=targets,\n",
    "        model_name=model_name,\n",
    "        niter=niter,\n",
    "        alpha=alpha,\n",
    "        softmask=softmask,\n",
    "        device=device\n",
    "    )\n",
    "    if output_dir:\n",
    "        mus.save_estimates(estimates, track, output_dir)\n",
    "\n",
    "    scores = museval.eval_mus_track(\n",
    "        track, estimates, output_dir=eval_dir\n",
    "    )\n",
    "    return scores\n"
   ]
  },
  {
   "cell_type": "code",
   "execution_count": 33,
   "metadata": {},
   "outputs": [
    {
     "name": "stderr",
     "output_type": "stream",
     "text": [
      "usage: ipykernel_launcher.py [-h] [--targets TARGETS [TARGETS ...]]\n",
      "                             [--model MODEL] [--outdir OUTDIR]\n",
      "                             [--evaldir EVALDIR] [--root ROOT]\n",
      "                             [--subset SUBSET] [--cores CORES] [--no-cuda]\n",
      "                             [--is-wav] [--softmask] [--niter NITER]\n",
      "                             [--alpha ALPHA] [--samplerate SAMPLERATE]\n",
      "                             [--residual-model]\n",
      "ipykernel_launcher.py: error: unrecognized arguments: -f /run/user/1010/jupyter/kernel-3ade00a1-d4d4-4f4d-a631-23fb5ba096fa.json\n"
     ]
    },
    {
     "ename": "SystemExit",
     "evalue": "2",
     "output_type": "error",
     "traceback": [
      "An exception has occurred, use %tb to see the full traceback.\n",
      "\u001b[0;31mSystemExit\u001b[0m\u001b[0;31m:\u001b[0m 2\n"
     ]
    },
    {
     "name": "stderr",
     "output_type": "stream",
     "text": [
      "/usr/local/lib/python3.6/dist-packages/IPython/core/interactiveshell.py:3304: UserWarning: To exit: use 'exit', 'quit', or Ctrl-D.\n",
      "  warn(\"To exit: use 'exit', 'quit', or Ctrl-D.\", stacklevel=1)\n"
     ]
    }
   ],
   "source": [
    "parser = argparse.ArgumentParser(\n",
    "    description='MUSDB18 Evaluation',\n",
    "    add_help=False\n",
    ")\n",
    "\n",
    "parser.add_argument(\n",
    "    '--targets',\n",
    "    nargs='+',\n",
    "    #default=['vocals', 'drums', 'bass', 'other'],\n",
    "    default=['vocals'],\n",
    "    type=str,\n",
    "    help='provide targets to be processed. \\\n",
    "          If none, all available targets will be computed'\n",
    ")\n",
    "\n",
    "parser.add_argument(\n",
    "    '--model',\n",
    "    default='umxhq',\n",
    "    type=str,\n",
    "    help='path to mode base directory of pretrained models',\n",
    "    #default = '../out_unmix/'\n",
    ")\n",
    "\n",
    "parser.add_argument(\n",
    "    '--outdir',\n",
    "    default='../out_dir_estimates/Exp1_umxhq',\n",
    "    type=str,\n",
    "    help='Results path where audio evaluation results are stored'\n",
    ")\n",
    "\n",
    "parser.add_argument(\n",
    "    '--evaldir',\n",
    "    default = '../out_dir_evals/Exp1_umxhq',\n",
    "    type=str,\n",
    "    help='Results path for museval estimates'\n",
    ")\n",
    "\n",
    "parser.add_argument(\n",
    "    '--root',\n",
    "    default = '../test_out/Exp_1/exp1_tracks/',\n",
    "    type=str,\n",
    "    help='Path to MUSDB18'\n",
    ")\n",
    "\n",
    "parser.add_argument(\n",
    "    '--subset',\n",
    "    type=str,\n",
    "    default='train',\n",
    "    help='MUSDB subset (`train`/`test`)'\n",
    ")\n",
    "\n",
    "parser.add_argument(\n",
    "    '--cores',\n",
    "    type=int,\n",
    "    default=1\n",
    ")\n",
    "\n",
    "parser.add_argument(\n",
    "    '--no-cuda',\n",
    "    action='store_true',\n",
    "    default=False,\n",
    "    help='disables CUDA inference'\n",
    ")\n",
    "\n",
    "parser.add_argument(\n",
    "    '--is-wav',\n",
    "    action='store_true', default=True,\n",
    "    help='flags wav version of the dataset'\n",
    ")\n",
    "\n",
    "args, _ = parser.parse_known_args()\n",
    "args = test.inference_args(parser, args)\n",
    "\n",
    "use_cuda = not args.no_cuda and torch.cuda.is_available()\n",
    "device = torch.device(\"cuda\" if use_cuda else \"cpu\")\n"
   ]
  },
  {
   "cell_type": "code",
   "execution_count": 34,
   "metadata": {},
   "outputs": [],
   "source": [
    "mus = musdb.DB(\n",
    "    root=args.root,\n",
    "    download=args.root is None,\n",
    "    subsets=args.subset,\n",
    "    is_wav=args.is_wav\n",
    ")"
   ]
  },
  {
   "cell_type": "code",
   "execution_count": 35,
   "metadata": {},
   "outputs": [],
   "source": [
    "results = museval.EvalStore()"
   ]
  },
  {
   "cell_type": "code",
   "execution_count": 36,
   "metadata": {},
   "outputs": [
    {
     "name": "stderr",
     "output_type": "stream",
     "text": [
      "  0%|          | 0/3 [00:00<?, ?it/s]\n",
      "  0%|          | 0/1 [00:00<?, ?it/s]\u001b[A"
     ]
    },
    {
     "name": "stdout",
     "output_type": "stream",
     "text": [
      "CHECK OpenUnmix(\n",
      "  (stft): STFT()\n",
      "  (spec): Spectrogram()\n",
      "  (transform): Sequential(\n",
      "    (0): STFT()\n",
      "    (1): Spectrogram()\n",
      "  )\n",
      "  (fc1): Linear(in_features=2974, out_features=512, bias=False)\n",
      "  (bn1): BatchNorm1d(512, eps=1e-05, momentum=0.1, affine=True, track_running_stats=True)\n",
      "  (lstm): LSTM(512, 256, num_layers=3, dropout=0.4, bidirectional=True)\n",
      "  (fc2): Linear(in_features=1024, out_features=512, bias=False)\n",
      "  (bn2): BatchNorm1d(512, eps=1e-05, momentum=0.1, affine=True, track_running_stats=True)\n",
      "  (fc3): Linear(in_features=512, out_features=4098, bias=False)\n",
      "  (bn3): BatchNorm1d(4098, eps=1e-05, momentum=0.1, affine=True, track_running_stats=True)\n",
      ")\n"
     ]
    },
    {
     "name": "stderr",
     "output_type": "stream",
     "text": [
      "\n",
      "100%|██████████| 1/1 [00:00<00:00,  3.00it/s]\u001b[A\n",
      "/home/aniruddha/.local/lib/python3.6/site-packages/museval/__init__.py:261: UserWarning: Incorrect usage of BSSeval : at least two estimates must be provided. Target score will be empty.\n",
      "  \"Incorrect usage of BSSeval : at least two estimates must be provided. Target score will be empty.\"\n",
      "  0%|          | 0/3 [00:01<?, ?it/s]\n"
     ]
    },
    {
     "ename": "KeyError",
     "evalue": "\"The following 'id_vars' are not present in the DataFrame: ['name', 'time']\"",
     "output_type": "error",
     "traceback": [
      "\u001b[0;31m---------------------------------------------------------------------------\u001b[0m",
      "\u001b[0;31mKeyError\u001b[0m                                  Traceback (most recent call last)",
      "\u001b[0;32m<ipython-input-36-be52241be780>\u001b[0m in \u001b[0;36m<module>\u001b[0;34m\u001b[0m\n\u001b[1;32m     11\u001b[0m         \u001b[0;31m#device=device\u001b[0m\u001b[0;34m\u001b[0m\u001b[0;34m\u001b[0m\u001b[0;34m\u001b[0m\u001b[0m\n\u001b[1;32m     12\u001b[0m     )\n\u001b[0;32m---> 13\u001b[0;31m     \u001b[0mresults\u001b[0m\u001b[0;34m.\u001b[0m\u001b[0madd_track\u001b[0m\u001b[0;34m(\u001b[0m\u001b[0mscores\u001b[0m\u001b[0;34m)\u001b[0m\u001b[0;34m\u001b[0m\u001b[0;34m\u001b[0m\u001b[0m\n\u001b[0m",
      "\u001b[0;32m~/.local/lib/python3.6/site-packages/museval/aggregate.py\u001b[0m in \u001b[0;36madd_track\u001b[0;34m(self, track)\u001b[0m\n\u001b[1;32m    182\u001b[0m         \"\"\"\n\u001b[1;32m    183\u001b[0m         \u001b[0;32mif\u001b[0m \u001b[0misinstance\u001b[0m\u001b[0;34m(\u001b[0m\u001b[0mtrack\u001b[0m\u001b[0;34m,\u001b[0m \u001b[0mTrackStore\u001b[0m\u001b[0;34m)\u001b[0m\u001b[0;34m:\u001b[0m\u001b[0;34m\u001b[0m\u001b[0;34m\u001b[0m\u001b[0m\n\u001b[0;32m--> 184\u001b[0;31m             \u001b[0mself\u001b[0m\u001b[0;34m.\u001b[0m\u001b[0mdf\u001b[0m \u001b[0;34m=\u001b[0m \u001b[0mself\u001b[0m\u001b[0;34m.\u001b[0m\u001b[0mdf\u001b[0m\u001b[0;34m.\u001b[0m\u001b[0mappend\u001b[0m\u001b[0;34m(\u001b[0m\u001b[0mtrack\u001b[0m\u001b[0;34m.\u001b[0m\u001b[0mdf\u001b[0m\u001b[0;34m,\u001b[0m \u001b[0mignore_index\u001b[0m\u001b[0;34m=\u001b[0m\u001b[0;32mTrue\u001b[0m\u001b[0;34m)\u001b[0m\u001b[0;34m\u001b[0m\u001b[0;34m\u001b[0m\u001b[0m\n\u001b[0m\u001b[1;32m    185\u001b[0m         \u001b[0;32melse\u001b[0m\u001b[0;34m:\u001b[0m\u001b[0;34m\u001b[0m\u001b[0;34m\u001b[0m\u001b[0m\n\u001b[1;32m    186\u001b[0m             \u001b[0mself\u001b[0m\u001b[0;34m.\u001b[0m\u001b[0mdf\u001b[0m \u001b[0;34m=\u001b[0m \u001b[0mself\u001b[0m\u001b[0;34m.\u001b[0m\u001b[0mdf\u001b[0m\u001b[0;34m.\u001b[0m\u001b[0mappend\u001b[0m\u001b[0;34m(\u001b[0m\u001b[0mtrack\u001b[0m\u001b[0;34m,\u001b[0m \u001b[0mignore_index\u001b[0m\u001b[0;34m=\u001b[0m\u001b[0;32mTrue\u001b[0m\u001b[0;34m)\u001b[0m\u001b[0;34m\u001b[0m\u001b[0;34m\u001b[0m\u001b[0m\n",
      "\u001b[0;32m~/.local/lib/python3.6/site-packages/museval/aggregate.py\u001b[0m in \u001b[0;36mdf\u001b[0;34m(self)\u001b[0m\n\u001b[1;32m    112\u001b[0m         \"\"\"\n\u001b[1;32m    113\u001b[0m         \u001b[0;31m# encode and decode to json first\u001b[0m\u001b[0;34m\u001b[0m\u001b[0;34m\u001b[0m\u001b[0;34m\u001b[0m\u001b[0m\n\u001b[0;32m--> 114\u001b[0;31m         \u001b[0;32mreturn\u001b[0m \u001b[0mjson2df\u001b[0m\u001b[0;34m(\u001b[0m\u001b[0msimplejson\u001b[0m\u001b[0;34m.\u001b[0m\u001b[0mloads\u001b[0m\u001b[0;34m(\u001b[0m\u001b[0mself\u001b[0m\u001b[0;34m.\u001b[0m\u001b[0mjson\u001b[0m\u001b[0;34m)\u001b[0m\u001b[0;34m,\u001b[0m \u001b[0mself\u001b[0m\u001b[0;34m.\u001b[0m\u001b[0mtrack_name\u001b[0m\u001b[0;34m)\u001b[0m\u001b[0;34m\u001b[0m\u001b[0;34m\u001b[0m\u001b[0m\n\u001b[0m\u001b[1;32m    115\u001b[0m \u001b[0;34m\u001b[0m\u001b[0m\n\u001b[1;32m    116\u001b[0m     \u001b[0;32mdef\u001b[0m \u001b[0m__repr__\u001b[0m\u001b[0;34m(\u001b[0m\u001b[0mself\u001b[0m\u001b[0;34m)\u001b[0m\u001b[0;34m:\u001b[0m\u001b[0;34m\u001b[0m\u001b[0;34m\u001b[0m\u001b[0m\n",
      "\u001b[0;32m~/.local/lib/python3.6/site-packages/museval/aggregate.py\u001b[0m in \u001b[0;36mjson2df\u001b[0;34m(json_string, track_name)\u001b[0m\n\u001b[1;32m    417\u001b[0m         \u001b[0mvalue_name\u001b[0m\u001b[0;34m=\u001b[0m\u001b[0;34m'score'\u001b[0m\u001b[0;34m,\u001b[0m\u001b[0;34m\u001b[0m\u001b[0;34m\u001b[0m\u001b[0m\n\u001b[1;32m    418\u001b[0m         \u001b[0mid_vars\u001b[0m\u001b[0;34m=\u001b[0m\u001b[0;34m[\u001b[0m\u001b[0;34m'time'\u001b[0m\u001b[0;34m,\u001b[0m \u001b[0;34m'name'\u001b[0m\u001b[0;34m]\u001b[0m\u001b[0;34m,\u001b[0m\u001b[0;34m\u001b[0m\u001b[0;34m\u001b[0m\u001b[0m\n\u001b[0;32m--> 419\u001b[0;31m         \u001b[0mvalue_vars\u001b[0m\u001b[0;34m=\u001b[0m\u001b[0;34m[\u001b[0m\u001b[0;34m'SDR'\u001b[0m\u001b[0;34m,\u001b[0m \u001b[0;34m'SAR'\u001b[0m\u001b[0;34m,\u001b[0m \u001b[0;34m'ISR'\u001b[0m\u001b[0;34m,\u001b[0m \u001b[0;34m'SIR'\u001b[0m\u001b[0;34m]\u001b[0m\u001b[0;34m\u001b[0m\u001b[0;34m\u001b[0m\u001b[0m\n\u001b[0m\u001b[1;32m    420\u001b[0m     )\n\u001b[1;32m    421\u001b[0m     \u001b[0mdf\u001b[0m\u001b[0;34m[\u001b[0m\u001b[0;34m'track'\u001b[0m\u001b[0;34m]\u001b[0m \u001b[0;34m=\u001b[0m \u001b[0mtrack_name\u001b[0m\u001b[0;34m\u001b[0m\u001b[0;34m\u001b[0m\u001b[0m\n",
      "\u001b[0;32m~/.local/lib/python3.6/site-packages/pandas/core/reshape/melt.py\u001b[0m in \u001b[0;36mmelt\u001b[0;34m(frame, id_vars, value_vars, var_name, value_name, col_level)\u001b[0m\n\u001b[1;32m     50\u001b[0m                     \u001b[0;34m\"The following 'id_vars' are not present\"\u001b[0m\u001b[0;34m\u001b[0m\u001b[0;34m\u001b[0m\u001b[0m\n\u001b[1;32m     51\u001b[0m                     \u001b[0;34m\" in the DataFrame: {missing}\"\u001b[0m\u001b[0;34m\u001b[0m\u001b[0;34m\u001b[0m\u001b[0m\n\u001b[0;32m---> 52\u001b[0;31m                     \u001b[0;34m\"\"\u001b[0m\u001b[0;34m.\u001b[0m\u001b[0mformat\u001b[0m\u001b[0;34m(\u001b[0m\u001b[0mmissing\u001b[0m\u001b[0;34m=\u001b[0m\u001b[0mlist\u001b[0m\u001b[0;34m(\u001b[0m\u001b[0mmissing\u001b[0m\u001b[0;34m)\u001b[0m\u001b[0;34m)\u001b[0m\u001b[0;34m\u001b[0m\u001b[0;34m\u001b[0m\u001b[0m\n\u001b[0m\u001b[1;32m     53\u001b[0m                 )\n\u001b[1;32m     54\u001b[0m     \u001b[0;32melse\u001b[0m\u001b[0;34m:\u001b[0m\u001b[0;34m\u001b[0m\u001b[0;34m\u001b[0m\u001b[0m\n",
      "\u001b[0;31mKeyError\u001b[0m: \"The following 'id_vars' are not present in the DataFrame: ['name', 'time']\""
     ]
    }
   ],
   "source": [
    "for track in tqdm.tqdm(mus.tracks):\n",
    "    scores = separate_and_evaluate(\n",
    "        track,\n",
    "        targets=args.targets,\n",
    "        model_name=args.model,\n",
    "        niter=2,\n",
    "        alpha=1,\n",
    "        softmask=False,\n",
    "        output_dir=None,\n",
    "        eval_dir=args.evaldir\n",
    "        #device=device\n",
    "    )\n",
    "    results.add_track(scores)"
   ]
  },
  {
   "cell_type": "code",
   "execution_count": null,
   "metadata": {},
   "outputs": [],
   "source": [
    "scores"
   ]
  },
  {
   "cell_type": "code",
   "execution_count": 37,
   "metadata": {},
   "outputs": [
    {
     "data": {
      "text/plain": [
       "musdb_eg1"
      ]
     },
     "execution_count": 37,
     "metadata": {},
     "output_type": "execute_result"
    }
   ],
   "source": [
    "track"
   ]
  },
  {
   "cell_type": "code",
   "execution_count": 38,
   "metadata": {},
   "outputs": [
    {
     "name": "stderr",
     "output_type": "stream",
     "text": [
      "\r",
      "  0%|          | 0/1 [00:00<?, ?it/s]"
     ]
    },
    {
     "name": "stdout",
     "output_type": "stream",
     "text": [
      "CHECK OpenUnmix(\n",
      "  (stft): STFT()\n",
      "  (spec): Spectrogram()\n",
      "  (transform): Sequential(\n",
      "    (0): STFT()\n",
      "    (1): Spectrogram()\n",
      "  )\n",
      "  (fc1): Linear(in_features=2974, out_features=512, bias=False)\n",
      "  (bn1): BatchNorm1d(512, eps=1e-05, momentum=0.1, affine=True, track_running_stats=True)\n",
      "  (lstm): LSTM(512, 256, num_layers=3, dropout=0.4, bidirectional=True)\n",
      "  (fc2): Linear(in_features=1024, out_features=512, bias=False)\n",
      "  (bn2): BatchNorm1d(512, eps=1e-05, momentum=0.1, affine=True, track_running_stats=True)\n",
      "  (fc3): Linear(in_features=512, out_features=4098, bias=False)\n",
      "  (bn3): BatchNorm1d(4098, eps=1e-05, momentum=0.1, affine=True, track_running_stats=True)\n",
      ")\n"
     ]
    },
    {
     "name": "stderr",
     "output_type": "stream",
     "text": [
      "100%|██████████| 1/1 [00:00<00:00,  3.38it/s]\n"
     ]
    }
   ],
   "source": [
    "scores = separate_and_evaluate(\n",
    "    track,\n",
    "    targets=args.targets,\n",
    "    model_name=args.model,\n",
    "    niter=2,\n",
    "    alpha=1,\n",
    "    softmask=False,\n",
    "    output_dir=args.outdir,\n",
    "    eval_dir=args.evaldir\n",
    "    #device=device\n",
    ")"
   ]
  },
  {
   "cell_type": "code",
   "execution_count": 39,
   "metadata": {},
   "outputs": [
    {
     "data": {
      "text/plain": [
       "museval.aggregate.TrackStore"
      ]
     },
     "execution_count": 39,
     "metadata": {},
     "output_type": "execute_result"
    }
   ],
   "source": [
    "type(scores)"
   ]
  },
  {
   "cell_type": "code",
   "execution_count": 40,
   "metadata": {},
   "outputs": [
    {
     "data": {
      "text/plain": []
     },
     "execution_count": 40,
     "metadata": {},
     "output_type": "execute_result"
    }
   ],
   "source": [
    "scores"
   ]
  },
  {
   "cell_type": "code",
   "execution_count": 41,
   "metadata": {},
   "outputs": [
    {
     "data": {
      "text/plain": [
       "museval.aggregate.EvalStore"
      ]
     },
     "execution_count": 41,
     "metadata": {},
     "output_type": "execute_result"
    }
   ],
   "source": [
    "type(results)"
   ]
  },
  {
   "cell_type": "code",
   "execution_count": 42,
   "metadata": {},
   "outputs": [
    {
     "data": {
      "text/plain": [
       "musdb_eg1"
      ]
     },
     "execution_count": 42,
     "metadata": {},
     "output_type": "execute_result"
    }
   ],
   "source": [
    "track"
   ]
  },
  {
   "cell_type": "code",
   "execution_count": 43,
   "metadata": {},
   "outputs": [
    {
     "name": "stderr",
     "output_type": "stream",
     "text": [
      "\r",
      "  0%|          | 0/1 [00:00<?, ?it/s]"
     ]
    },
    {
     "name": "stdout",
     "output_type": "stream",
     "text": [
      "CHECK OpenUnmix(\n",
      "  (stft): STFT()\n",
      "  (spec): Spectrogram()\n",
      "  (transform): Sequential(\n",
      "    (0): STFT()\n",
      "    (1): Spectrogram()\n",
      "  )\n",
      "  (fc1): Linear(in_features=2974, out_features=512, bias=False)\n",
      "  (bn1): BatchNorm1d(512, eps=1e-05, momentum=0.1, affine=True, track_running_stats=True)\n",
      "  (lstm): LSTM(512, 256, num_layers=3, dropout=0.4, bidirectional=True)\n",
      "  (fc2): Linear(in_features=1024, out_features=512, bias=False)\n",
      "  (bn2): BatchNorm1d(512, eps=1e-05, momentum=0.1, affine=True, track_running_stats=True)\n",
      "  (fc3): Linear(in_features=512, out_features=4098, bias=False)\n",
      "  (bn3): BatchNorm1d(4098, eps=1e-05, momentum=0.1, affine=True, track_running_stats=True)\n",
      ")\n"
     ]
    },
    {
     "name": "stderr",
     "output_type": "stream",
     "text": [
      "100%|██████████| 1/1 [00:00<00:00,  3.22it/s]\n"
     ]
    }
   ],
   "source": [
    "estimates = test.separate(\n",
    "    audio=track.audio,\n",
    "    targets=['vocals'],\n",
    "    model_name='umxhq',\n",
    "    niter=2,\n",
    "    alpha=1.0,\n",
    "    softmask=False\n",
    "    #device=device\n",
    ")"
   ]
  },
  {
   "cell_type": "code",
   "execution_count": 44,
   "metadata": {},
   "outputs": [
    {
     "data": {
      "text/plain": [
       "{'vocals': array([[-0.06713487,  0.06091061],\n",
       "        [-0.05950908,  0.0561809 ],\n",
       "        [-0.03747256, -0.00544321],\n",
       "        ...,\n",
       "        [ 0.05709865,  0.06730049],\n",
       "        [ 0.05682895,  0.0662374 ],\n",
       "        [ 0.0542154 ,  0.06809763]]),\n",
       " 'accompaniment': array([[ 0.02007374,  0.09089083],\n",
       "        [ 0.02619111,  0.09239524],\n",
       "        [ 0.05245196,  0.05696818],\n",
       "        ...,\n",
       "        [-0.05764364, -0.06863255],\n",
       "        [-0.05842136, -0.06709738],\n",
       "        [-0.05447776, -0.06814776]])}"
      ]
     },
     "execution_count": 44,
     "metadata": {},
     "output_type": "execute_result"
    }
   ],
   "source": [
    "estimates"
   ]
  },
  {
   "cell_type": "code",
   "execution_count": 45,
   "metadata": {},
   "outputs": [],
   "source": [
    "estimates['tabla'] = estimates['accompaniment']"
   ]
  },
  {
   "cell_type": "code",
   "execution_count": 46,
   "metadata": {},
   "outputs": [
    {
     "data": {
      "text/plain": [
       "{'vocals': array([[-0.06713487,  0.06091061],\n",
       "        [-0.05950908,  0.0561809 ],\n",
       "        [-0.03747256, -0.00544321],\n",
       "        ...,\n",
       "        [ 0.05709865,  0.06730049],\n",
       "        [ 0.05682895,  0.0662374 ],\n",
       "        [ 0.0542154 ,  0.06809763]]),\n",
       " 'accompaniment': array([[ 0.02007374,  0.09089083],\n",
       "        [ 0.02619111,  0.09239524],\n",
       "        [ 0.05245196,  0.05696818],\n",
       "        ...,\n",
       "        [-0.05764364, -0.06863255],\n",
       "        [-0.05842136, -0.06709738],\n",
       "        [-0.05447776, -0.06814776]]),\n",
       " 'tabla': array([[ 0.02007374,  0.09089083],\n",
       "        [ 0.02619111,  0.09239524],\n",
       "        [ 0.05245196,  0.05696818],\n",
       "        ...,\n",
       "        [-0.05764364, -0.06863255],\n",
       "        [-0.05842136, -0.06709738],\n",
       "        [-0.05447776, -0.06814776]])}"
      ]
     },
     "execution_count": 46,
     "metadata": {},
     "output_type": "execute_result"
    }
   ],
   "source": [
    "estimates"
   ]
  },
  {
   "cell_type": "code",
   "execution_count": 47,
   "metadata": {},
   "outputs": [],
   "source": [
    "scores = museval.eval_mus_track(track, estimates, output_dir=args.evaldir)"
   ]
  },
  {
   "cell_type": "code",
   "execution_count": 48,
   "metadata": {},
   "outputs": [
    {
     "data": {
      "text/plain": [
       "odict_items([('vocals', vocals), ('linear_mixture', vocals)])"
      ]
     },
     "execution_count": 48,
     "metadata": {},
     "output_type": "execute_result"
    }
   ],
   "source": [
    "track.targets.items()"
   ]
  },
  {
   "cell_type": "code",
   "execution_count": 49,
   "metadata": {},
   "outputs": [
    {
     "ename": "SyntaxError",
     "evalue": "invalid syntax (<ipython-input-49-dd0a85768bc5>, line 1)",
     "output_type": "error",
     "traceback": [
      "\u001b[0;36m  File \u001b[0;32m\"<ipython-input-49-dd0a85768bc5>\"\u001b[0;36m, line \u001b[0;32m1\u001b[0m\n\u001b[0;31m    museval.\u001b[0m\n\u001b[0m            ^\u001b[0m\n\u001b[0;31mSyntaxError\u001b[0m\u001b[0;31m:\u001b[0m invalid syntax\n"
     ]
    }
   ],
   "source": [
    "museval."
   ]
  },
  {
   "cell_type": "code",
   "execution_count": 50,
   "metadata": {},
   "outputs": [
    {
     "data": {
      "text/plain": [
       "array([[-0.04705811,  0.15176392],\n",
       "       [-0.0333252 ,  0.14862061],\n",
       "       [ 0.01498413,  0.05148315],\n",
       "       ...,\n",
       "       [-0.0005188 , -0.0012207 ],\n",
       "       [-0.00167847, -0.0010376 ],\n",
       "       [-0.00015259,  0.00015259]])"
      ]
     },
     "execution_count": 50,
     "metadata": {},
     "output_type": "execute_result"
    }
   ],
   "source": [
    "track.audio\n"
   ]
  },
  {
   "cell_type": "code",
   "execution_count": 52,
   "metadata": {},
   "outputs": [
    {
     "data": {
      "text/plain": [
       "(2, 300032, 2)"
      ]
     },
     "execution_count": 52,
     "metadata": {},
     "output_type": "execute_result"
    }
   ],
   "source": [
    "track.stems"
   ]
  },
  {
   "cell_type": "code",
   "execution_count": null,
   "metadata": {},
   "outputs": [],
   "source": []
  }
 ],
 "metadata": {
  "kernelspec": {
   "display_name": "Python 3",
   "language": "python",
   "name": "python3"
  },
  "language_info": {
   "codemirror_mode": {
    "name": "ipython",
    "version": 3
   },
   "file_extension": ".py",
   "mimetype": "text/x-python",
   "name": "python",
   "nbconvert_exporter": "python",
   "pygments_lexer": "ipython3",
   "version": "3.6.8"
  }
 },
 "nbformat": 4,
 "nbformat_minor": 2
}
