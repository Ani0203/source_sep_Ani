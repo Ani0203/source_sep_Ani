{
 "cells": [
  {
   "cell_type": "code",
   "execution_count": 96,
   "metadata": {},
   "outputs": [],
   "source": [
    "import argparse\n",
    "import musdb\n",
    "import museval\n",
    "import test\n",
    "import multiprocessing\n",
    "import functools\n",
    "from pathlib import Path\n",
    "import torch\n",
    "import tqdm\n",
    "import numpy as np\n",
    "%matplotlib inline"
   ]
  },
  {
   "cell_type": "code",
   "execution_count": 169,
   "metadata": {},
   "outputs": [],
   "source": [
    "model = 'umxhq'\n",
    "model_name = 'umxhq'\n",
    "#model = '../out_unmix/model_new_data_aug'\n",
    "#model_name = 'model_new_data_aug'\n",
    "# model = '../out_unmix/model_new_data'\n",
    "# model_name = 'model_new_data'\n",
    "\n",
    "# model = '../out_unmix/model8'\n",
    "# model_name = 'model8'\n",
    "\n",
    "targets = ['vocals']\n",
    "outdir = '../test_out/BSS_eval_plots/'\n",
    "evaldir = '../out_dir_evals/Exp1_umxhq'\n",
    "root = '../test_out/Exp_1/exp1_tracks/'\n",
    "subset = 'train'\n",
    "cores = 1\n",
    "no_cuda = False\n",
    "is_wav = True"
   ]
  },
  {
   "cell_type": "code",
   "execution_count": 170,
   "metadata": {},
   "outputs": [],
   "source": [
    "use_cuda = not no_cuda and torch.cuda.is_available()\n",
    "device = torch.device(\"cuda\" if use_cuda else \"cpu\")"
   ]
  },
  {
   "cell_type": "code",
   "execution_count": 171,
   "metadata": {},
   "outputs": [],
   "source": [
    "mus = musdb.DB(\n",
    "    root=root,\n",
    "    download=root is None,\n",
    "    subsets=subset,\n",
    "    is_wav=is_wav\n",
    ")"
   ]
  },
  {
   "cell_type": "code",
   "execution_count": 172,
   "metadata": {},
   "outputs": [
    {
     "data": {
      "text/plain": [
       "[Yaman_res_plus_comp50_t,\n",
       " Yaman_res_plus_comp85_t,\n",
       " musdb_eg1,\n",
       " my_data_eg1,\n",
       " my_data_eg2,\n",
       " osf_malhar]"
      ]
     },
     "execution_count": 172,
     "metadata": {},
     "output_type": "execute_result"
    }
   ],
   "source": [
    "mus.tracks"
   ]
  },
  {
   "cell_type": "code",
   "execution_count": 173,
   "metadata": {},
   "outputs": [
    {
     "data": {
      "text/plain": [
       "'0 - Yaman+comp50 == test data\\n   1 - musdb-eg\\n   2 - Sakhi_mori == train data\\n   3 - yaman+comp__ == valid data\\n   4 - osf_malhar\\n'"
      ]
     },
     "execution_count": 173,
     "metadata": {},
     "output_type": "execute_result"
    }
   ],
   "source": [
    "track = mus.tracks[1]\n",
    "'''0 - Yaman+comp50 == test data\n",
    "   1 - musdb-eg\n",
    "   2 - Sakhi_mori == train data\n",
    "   3 - yaman+comp__ == valid data\n",
    "   4 - osf_malhar\n",
    "'''\n"
   ]
  },
  {
   "cell_type": "code",
   "execution_count": 174,
   "metadata": {},
   "outputs": [
    {
     "data": {
      "text/plain": [
       "(4672680, 2)"
      ]
     },
     "execution_count": 174,
     "metadata": {},
     "output_type": "execute_result"
    }
   ],
   "source": [
    "track.audio.shape"
   ]
  },
  {
   "cell_type": "code",
   "execution_count": 175,
   "metadata": {},
   "outputs": [
    {
     "name": "stderr",
     "output_type": "stream",
     "text": [
      "\r",
      "  0%|          | 0/1 [00:00<?, ?it/s]"
     ]
    },
    {
     "name": "stdout",
     "output_type": "stream",
     "text": [
      "CHECK OpenUnmix(\n",
      "  (stft): STFT()\n",
      "  (spec): Spectrogram()\n",
      "  (transform): Sequential(\n",
      "    (0): STFT()\n",
      "    (1): Spectrogram()\n",
      "  )\n",
      "  (fc1): Linear(in_features=2974, out_features=512, bias=False)\n",
      "  (bn1): BatchNorm1d(512, eps=1e-05, momentum=0.1, affine=True, track_running_stats=True)\n",
      "  (lstm): LSTM(512, 256, num_layers=3, dropout=0.4, bidirectional=True)\n",
      "  (fc2): Linear(in_features=1024, out_features=512, bias=False)\n",
      "  (bn2): BatchNorm1d(512, eps=1e-05, momentum=0.1, affine=True, track_running_stats=True)\n",
      "  (fc3): Linear(in_features=512, out_features=4098, bias=False)\n",
      "  (bn3): BatchNorm1d(4098, eps=1e-05, momentum=0.1, affine=True, track_running_stats=True)\n",
      ")\n"
     ]
    },
    {
     "name": "stderr",
     "output_type": "stream",
     "text": [
      "100%|██████████| 1/1 [00:04<00:00,  4.53s/it]\n"
     ]
    }
   ],
   "source": [
    "estimates = test.separate(\n",
    "    audio=track.audio,\n",
    "    targets=targets,\n",
    "    model_name=model,\n",
    "    niter=2,\n",
    "    alpha=1,\n",
    "    softmask=False,\n",
    "    #device=device\n",
    ")"
   ]
  },
  {
   "cell_type": "code",
   "execution_count": 176,
   "metadata": {},
   "outputs": [],
   "source": [
    "audio_estimates = []\n",
    "audio_reference = []\n",
    "eval_targets = []"
   ]
  },
  {
   "cell_type": "code",
   "execution_count": 177,
   "metadata": {},
   "outputs": [],
   "source": [
    "for key, target in list(track.targets.items()):\n",
    "    try:\n",
    "        # try to fetch the audio from the user_results of a given key\n",
    "        estimates[key]\n",
    "    except KeyError:\n",
    "        # ignore wrong key and continue\n",
    "        continue\n",
    "    eval_targets.append(key)"
   ]
  },
  {
   "cell_type": "code",
   "execution_count": 178,
   "metadata": {},
   "outputs": [],
   "source": [
    "mode='v4'\n",
    "win=1.0\n",
    "hop=1.0\n",
    "data = museval.aggregate.TrackStore(win=win, hop=hop, track_name=track.name)"
   ]
  },
  {
   "cell_type": "code",
   "execution_count": 179,
   "metadata": {},
   "outputs": [],
   "source": [
    "# check if vocals and accompaniment is among the targets\n",
    "has_acc = all(x in eval_targets for x in ['vocals', 'accompaniment'])\n",
    "if has_acc:\n",
    "    # remove accompaniment from list of targets, because\n",
    "    # the voc/acc scenario will be evaluated separately\n",
    "    eval_targets.remove('accompaniment')\n"
   ]
  },
  {
   "cell_type": "code",
   "execution_count": 180,
   "metadata": {},
   "outputs": [],
   "source": [
    "audio_estimates.append(estimates['vocals'])\n",
    "audio_reference.append(track.targets['vocals'].audio)"
   ]
  },
  {
   "cell_type": "code",
   "execution_count": 181,
   "metadata": {},
   "outputs": [],
   "source": [
    "def pad_or_truncate(\n",
    "    audio_reference,\n",
    "    audio_estimates\n",
    "):\n",
    "    \"\"\"Pad or truncate estimates by duration of references:\n",
    "    - If reference > estimates: add zeros at the and of the estimated signal\n",
    "    - If estimates > references: truncate estimates to duration of references\n",
    "\n",
    "    Parameters\n",
    "    ----------\n",
    "    references : np.ndarray, shape=(nsrc, nsampl, nchan)\n",
    "        array containing true reference sources\n",
    "    estimates : np.ndarray, shape=(nsrc, nsampl, nchan)\n",
    "        array containing estimated sources\n",
    "    Returns\n",
    "    -------\n",
    "    references : np.ndarray, shape=(nsrc, nsampl, nchan)\n",
    "        array containing true reference sources\n",
    "    estimates : np.ndarray, shape=(nsrc, nsampl, nchan)\n",
    "        array containing estimated sources\n",
    "    \"\"\"\n",
    "    est_shape = audio_estimates.shape\n",
    "    ref_shape = audio_reference.shape\n",
    "    if est_shape[1] != ref_shape[1]:\n",
    "        if est_shape[1] >= ref_shape[1]:\n",
    "            audio_estimates = audio_estimates[:, :ref_shape[1], :]\n",
    "        else:\n",
    "            # pad end with zeros\n",
    "            audio_estimates = np.pad(\n",
    "                audio_estimates,\n",
    "                [\n",
    "                    (0, 0),\n",
    "                    (0, ref_shape[1] - est_shape[1]),\n",
    "                    (0, 0)\n",
    "                ],\n",
    "                mode='constant'\n",
    "            )\n",
    "\n",
    "    return audio_reference, audio_estimates"
   ]
  },
  {
   "cell_type": "code",
   "execution_count": 182,
   "metadata": {},
   "outputs": [],
   "source": [
    "def evaluate(\n",
    "    references,\n",
    "    estimates,\n",
    "    win=1*44100,\n",
    "    hop=1*44100,\n",
    "    mode='v4',\n",
    "    padding=True\n",
    "):\n",
    "    \"\"\"BSS_EVAL images evaluation using metrics module\n",
    "\n",
    "    Parameters\n",
    "    ----------\n",
    "    references : np.ndarray, shape=(nsrc, nsampl, nchan)\n",
    "        array containing true reference sources\n",
    "    estimates : np.ndarray, shape=(nsrc, nsampl, nchan)\n",
    "        array containing estimated sources\n",
    "    window : int, defaults to 44100\n",
    "        window size in samples\n",
    "    hop : int\n",
    "        hop size in samples, defaults to 44100 (no overlap)\n",
    "    mode : str\n",
    "        BSSEval version, default to `v4`\n",
    "    Returns\n",
    "    -------\n",
    "    SDR : np.ndarray, shape=(nsrc,)\n",
    "        vector of Signal to Distortion Ratios (SDR)\n",
    "    ISR : np.ndarray, shape=(nsrc,)\n",
    "        vector of Source to Spatial Distortion Image (ISR)\n",
    "    SIR : np.ndarray, shape=(nsrc,)\n",
    "        vector of Source to Interference Ratios (SIR)\n",
    "    SAR : np.ndarray, shape=(nsrc,)\n",
    "        vector of Sources to Artifacts Ratios (SAR)\n",
    "    \"\"\"\n",
    "\n",
    "    estimates = np.array(estimates)\n",
    "    references = np.array(references)\n",
    "\n",
    "    if padding:\n",
    "        references, estimates = pad_or_truncate(references, estimates)\n",
    "\n",
    "    SDR, ISR, SIR, SAR, _ = museval.metrics.bss_eval(\n",
    "        references,\n",
    "        estimates,\n",
    "        compute_permutation=False,\n",
    "        window=win,\n",
    "        hop=hop,\n",
    "        framewise_filters=(mode == \"v3\"),\n",
    "        bsseval_sources_version=False\n",
    "    )\n",
    "\n",
    "    return SDR, ISR, SIR, SAR"
   ]
  },
  {
   "cell_type": "code",
   "execution_count": 183,
   "metadata": {},
   "outputs": [],
   "source": [
    "SDR, ISR, SIR, SAR = evaluate(\n",
    "        audio_reference,\n",
    "        audio_estimates,\n",
    "        win=int(win*track.rate),\n",
    "        hop=int(hop*track.rate),\n",
    "        mode=mode\n",
    "    )"
   ]
  },
  {
   "cell_type": "code",
   "execution_count": 184,
   "metadata": {},
   "outputs": [],
   "source": [
    "from matplotlib import pyplot as plt"
   ]
  },
  {
   "cell_type": "code",
   "execution_count": 185,
   "metadata": {},
   "outputs": [
    {
     "name": "stderr",
     "output_type": "stream",
     "text": [
      "No handles with labels found to put in legend.\n"
     ]
    },
    {
     "data": {
      "text/plain": [
       "{'whiskers': [<matplotlib.lines.Line2D at 0x7f8050ad3978>,\n",
       "  <matplotlib.lines.Line2D at 0x7f8050ad3cc0>],\n",
       " 'caps': [<matplotlib.lines.Line2D at 0x7f8050add048>,\n",
       "  <matplotlib.lines.Line2D at 0x7f8050add390>],\n",
       " 'boxes': [<matplotlib.lines.Line2D at 0x7f8050ad3668>],\n",
       " 'medians': [<matplotlib.lines.Line2D at 0x7f8050add6d8>],\n",
       " 'fliers': [],\n",
       " 'means': []}"
      ]
     },
     "execution_count": 185,
     "metadata": {},
     "output_type": "execute_result"
    },
    {
     "data": {
      "image/png": "[encoded data removed]",
      "text/plain": [
       "<Figure size 1152x864 with 1 Axes>"
      ]
     },
     "metadata": {
      "needs_background": "light"
     },
     "output_type": "display_data"
    }
   ],
   "source": [
    "plt.figure(figsize=(16,12))\n",
    "plt.subplot(2, 2, 2)\n",
    "plt.title(\"SDR Box-plot\")\n",
    "plt.ylabel(\"SDR\")\n",
    "plt.legend()\n",
    "#plt.subplot(1,2,1)\n",
    "plt.boxplot(SDR[0] , showfliers=False)\n",
    "#plt.subplot(1,2,2)\n",
    "#plt.boxplot(ISR[0])\n",
    "\n",
    "#plt.savefig(outdir + \"SDR_plot_\" + track.name + \"_\" + model_name + \".pdf\" )"
   ]
  },
  {
   "cell_type": "code",
   "execution_count": 186,
   "metadata": {},
   "outputs": [
    {
     "data": {
      "text/plain": [
       "{'whiskers': [<matplotlib.lines.Line2D at 0x7f8050a2cd68>,\n",
       "  <matplotlib.lines.Line2D at 0x7f8050a38160>],\n",
       " 'caps': [<matplotlib.lines.Line2D at 0x7f8050a384a8>,\n",
       "  <matplotlib.lines.Line2D at 0x7f8050a387f0>],\n",
       " 'boxes': [<matplotlib.lines.Line2D at 0x7f8050a2ca58>],\n",
       " 'medians': [<matplotlib.lines.Line2D at 0x7f8050a38b38>],\n",
       " 'fliers': [<matplotlib.lines.Line2D at 0x7f8050a38e80>],\n",
       " 'means': []}"
      ]
     },
     "execution_count": 186,
     "metadata": {},
     "output_type": "execute_result"
    },
    {
     "data": {
      "image/png": "[encoded data removed]",
      "text/plain": [
       "<Figure size 1152x864 with 1 Axes>"
      ]
     },
     "metadata": {
      "needs_background": "light"
     },
     "output_type": "display_data"
    }
   ],
   "source": [
    "plt.figure(figsize=(16,12))\n",
    "plt.subplot(2, 2, 2)\n",
    "plt.title(\"ISR Box-plot\")\n",
    "plt.ylabel(\"ISR\")\n",
    "plt.boxplot(ISR[0])\n",
    "#plt.savefig(outdir + \"ISR_plot_\" + track.name + \"_\" + model_name + \".pdf\" )"
   ]
  },
  {
   "cell_type": "code",
   "execution_count": 187,
   "metadata": {},
   "outputs": [
    {
     "data": {
      "text/plain": [
       "{'whiskers': [<matplotlib.lines.Line2D at 0x7f8050a14358>,\n",
       "  <matplotlib.lines.Line2D at 0x7f8050a14710>],\n",
       " 'caps': [<matplotlib.lines.Line2D at 0x7f8050a14a58>,\n",
       "  <matplotlib.lines.Line2D at 0x7f8050a14da0>],\n",
       " 'boxes': [<matplotlib.lines.Line2D at 0x7f8050a14208>],\n",
       " 'medians': [<matplotlib.lines.Line2D at 0x7f8050a1b128>],\n",
       " 'fliers': [<matplotlib.lines.Line2D at 0x7f8050a1b470>],\n",
       " 'means': []}"
      ]
     },
     "execution_count": 187,
     "metadata": {},
     "output_type": "execute_result"
    },
    {
     "data": {
      "image/png": "[encoded data removed]",
      "text/plain": [
       "<Figure size 1152x864 with 1 Axes>"
      ]
     },
     "metadata": {
      "needs_background": "light"
     },
     "output_type": "display_data"
    }
   ],
   "source": [
    "plt.figure(figsize=(16,12))\n",
    "plt.subplot(2, 2, 2)\n",
    "plt.title(\"SAR Box-plot\")\n",
    "plt.ylabel(\"SAR\")\n",
    "plt.boxplot(SAR[0])\n",
    "#plt.savefig(outdir + \"SAR_plot_\" + track.name + \"_\" + model_name + \".pdf\" )"
   ]
  },
  {
   "cell_type": "code",
   "execution_count": 188,
   "metadata": {},
   "outputs": [
    {
     "data": {
      "text/plain": [
       "str"
      ]
     },
     "execution_count": 188,
     "metadata": {},
     "output_type": "execute_result"
    }
   ],
   "source": [
    "type(track.name)"
   ]
  },
  {
   "cell_type": "code",
   "execution_count": 189,
   "metadata": {},
   "outputs": [
    {
     "data": {
      "text/plain": [
       "3.3733240642568214"
      ]
     },
     "execution_count": 189,
     "metadata": {},
     "output_type": "execute_result"
    }
   ],
   "source": [
    "np.median(SDR[0])"
   ]
  },
  {
   "cell_type": "code",
   "execution_count": null,
   "metadata": {},
   "outputs": [],
   "source": []
  }
 ],
 "metadata": {
  "kernelspec": {
   "display_name": "Python 3",
   "language": "python",
   "name": "python3"
  },
  "language_info": {
   "codemirror_mode": {
    "name": "ipython",
    "version": 3
   },
   "file_extension": ".py",
   "mimetype": "text/x-python",
   "name": "python",
   "nbconvert_exporter": "python",
   "pygments_lexer": "ipython3",
   "version": "3.6.8"
  }
 },
 "nbformat": 4,
 "nbformat_minor": 2
}
