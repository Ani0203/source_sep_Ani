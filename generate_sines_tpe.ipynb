{
 "cells": [
  {
   "cell_type": "code",
   "execution_count": 4,
   "metadata": {},
   "outputs": [],
   "source": [
    "import numpy as np\n",
    "import pandas as pd\n",
    "from matplotlib import pyplot as plt\n",
    "import math\n",
    "import scipy.io.wavfile\n",
    "import shutil\n",
    "%matplotlib inline"
   ]
  },
  {
   "cell_type": "code",
   "execution_count": 5,
   "metadata": {},
   "outputs": [
    {
     "name": "stderr",
     "output_type": "stream",
     "text": [
      "/usr/local/lib/python3.6/dist-packages/ipykernel_launcher.py:4: FutureWarning: Method .as_matrix will be removed in a future version. Use .values instead.\n",
      "  after removing the cwd from sys.path.\n"
     ]
    }
   ],
   "source": [
    "track_folder = \"../test_out/Exp_2/Model1/\"\n",
    "track = \"extr_pitch\"\n",
    "a = pd.read_csv(track_folder+track+\".csv\")\n",
    "time_freq = a.as_matrix()"
   ]
  },
  {
   "cell_type": "code",
   "execution_count": 6,
   "metadata": {},
   "outputs": [],
   "source": [
    "#so that time stamp starts from t=0\n",
    "time_freq[:,[0]] = time_freq[:,[0]] - time_freq[0][0]"
   ]
  },
  {
   "cell_type": "code",
   "execution_count": 7,
   "metadata": {},
   "outputs": [],
   "source": [
    "#add third column corresponding to energy\n",
    "#putting energy of all elements = 1, for our applicaton this value doesn't matter\n",
    "#add_col = np.ones(time_freq.shape[0])\n",
    "tpe = np.ones((time_freq.shape[0], 3))\n",
    "tpe[:,[0, 1]] = time_freq"
   ]
  },
  {
   "cell_type": "code",
   "execution_count": 8,
   "metadata": {},
   "outputs": [],
   "source": [
    "np.savetxt(track_folder+track+\".tpe\", tpe, delimiter=\" \")"
   ]
  },
  {
   "cell_type": "code",
   "execution_count": 9,
   "metadata": {},
   "outputs": [],
   "source": [
    "sines = np.ones((time_freq.shape[0], 5))\n",
    "sines[:,[0, 1]] = time_freq\n",
    "sines[:,[2]] = 100*np.ones((time_freq.shape[0], 1))\n",
    "sines[:,[3]] = np.zeros((time_freq.shape[0], 1))"
   ]
  },
  {
   "cell_type": "code",
   "execution_count": 10,
   "metadata": {},
   "outputs": [],
   "source": [
    "np.savetxt(track_folder+track+\".sines\", sines, delimiter=\"\\n\")"
   ]
  },
  {
   "cell_type": "code",
   "execution_count": 11,
   "metadata": {},
   "outputs": [
    {
     "data": {
      "text/plain": [
       "'../test_out/Exp_2/Model1/extr_pitch.sines'"
      ]
     },
     "execution_count": 11,
     "metadata": {},
     "output_type": "execute_result"
    }
   ],
   "source": [
    "temp = open('temp', 'w')\n",
    "i = 0\n",
    "with open(track_folder+track+\".sines\", 'r') as f:\n",
    "    for line in f:\n",
    "        i = i+1\n",
    "        if(i%5==1):\n",
    "            #print(type(line))\n",
    "            line = line[:-1] + ' 1\\n' \n",
    "        temp.write(line)\n",
    "temp.close()\n",
    "shutil.move('temp', track_folder+track+\".sines\")"
   ]
  },
  {
   "cell_type": "code",
   "execution_count": null,
   "metadata": {},
   "outputs": [],
   "source": []
  },
  {
   "cell_type": "code",
   "execution_count": null,
   "metadata": {},
   "outputs": [],
   "source": []
  }
 ],
 "metadata": {
  "kernelspec": {
   "display_name": "Python 3",
   "language": "python",
   "name": "python3"
  },
  "language_info": {
   "codemirror_mode": {
    "name": "ipython",
    "version": 3
   },
   "file_extension": ".py",
   "mimetype": "text/x-python",
   "name": "python",
   "nbconvert_exporter": "python",
   "pygments_lexer": "ipython3",
   "version": "3.6.8"
  }
 },
 "nbformat": 4,
 "nbformat_minor": 2
}
